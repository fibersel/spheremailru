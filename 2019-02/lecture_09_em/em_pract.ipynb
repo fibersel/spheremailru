{
 "cells": [
  {
   "cell_type": "markdown",
   "metadata": {},
   "source": [
    "# EM-алгоритм и оценка плотности. Практика"
   ]
  },
  {
   "cell_type": "markdown",
   "metadata": {},
   "source": [
    "Задача поиска аномалий сейчас крайне востребована. Какая область применения?\n",
    "\n",
    "Хороший обзор можно почитать тут https://dyakonov.org/2017/04/19/поиск-аномалий-anomaly-detection/\n",
    "\n",
    "1) Производство\n",
    "\n",
    "2) Банки\n",
    "\n",
    "3) Медицина\n",
    "\n",
    "4) Компьютерные системы\n",
    "\n",
    "5) Безопасность\n",
    "\n",
    "6) Биоинформатика\n",
    "\n",
    "7) Любая задача с выбросами"
   ]
  },
  {
   "cell_type": "markdown",
   "metadata": {},
   "source": [
    "Что задачу поиска аномалий отделяет от задачи классификации?"
   ]
  },
  {
   "cell_type": "markdown",
   "metadata": {},
   "source": [
    "Нужно отличать выбросы от новизны. Выбросы есть в обучащей выборке, новизны -- нет. "
   ]
  },
  {
   "cell_type": "markdown",
   "metadata": {},
   "source": [
    "Как можно находить аномалии?\n",
    "Самые очевидные варианты:\n",
    "\n",
    "1) Статистически\n",
    "\n",
    "2) Построить модель  данных и проверить описывает ли она тестовые объекты\n",
    "\n",
    "3) Метрически (самые популярные)\n",
    "\n",
    "4) Отдельные алгоритмы в машинном обучении "
   ]
  },
  {
   "cell_type": "markdown",
   "metadata": {},
   "source": [
    "Рассмотрим задачу из области медицины. Чем характерны медицинские данные?"
   ]
  },
  {
   "cell_type": "markdown",
   "metadata": {},
   "source": [
    "Датасет можно скачать тут: http://odds.cs.stonybrook.edu/mammography-dataset/"
   ]
  },
  {
   "cell_type": "code",
   "execution_count": 1,
   "metadata": {},
   "outputs": [
    {
     "name": "stdout",
     "output_type": "stream",
     "text": [
      "Anomaly class percent  0.02\n"
     ]
    }
   ],
   "source": [
    "import scipy.io\n",
    "from sklearn.metrics import f1_score\n",
    "import numpy as np\n",
    "from matplotlib import pyplot as plt\n",
    "\n",
    "\n",
    "mat = scipy.io.loadmat('mammography.mat')\n",
    "X = mat['X']\n",
    "y = mat['y'].ravel()\n",
    "print ('Anomaly class percent ', round(y.sum() / len(y),2 ))"
   ]
  },
  {
   "cell_type": "markdown",
   "metadata": {},
   "source": [
    "Возьме медицинский датасет с описанием маммографий пациенток и найдем аномальные снимки (за аномалию здесь считаются снимки с опухолью)"
   ]
  },
  {
   "cell_type": "code",
   "execution_count": 2,
   "metadata": {},
   "outputs": [
    {
     "name": "stdout",
     "output_type": "stream",
     "text": [
      "(10923, 6) (260, 6) (260, 6)\n"
     ]
    }
   ],
   "source": [
    "X_normal = X[y == 0]\n",
    "X_anomaly = X[y == 1]\n",
    "X_normal_train = X[0 : len(X) - len(X_anomaly)]\n",
    "X_normal_test = X[len(X) - len(X_anomaly) : ]\n",
    "print (X_normal_train.shape, X_normal_test.shape, X_anomaly.shape)"
   ]
  },
  {
   "cell_type": "code",
   "execution_count": 3,
   "metadata": {},
   "outputs": [
    {
     "data": {
      "text/plain": [
       "0.4933078393881453"
      ]
     },
     "execution_count": 3,
     "metadata": {},
     "output_type": "execute_result"
    }
   ],
   "source": [
    "y_test = np.array([0] * len(X_normal_test) + [1] * len(X_anomaly))\n",
    "random_pred = np.random.binomial(n=1, p=0.5, size = len(X_normal_test) * 2)\n",
    "f1_score(y_test, random_pred)"
   ]
  },
  {
   "cell_type": "code",
   "execution_count": 13,
   "metadata": {},
   "outputs": [
    {
     "data": {
      "image/png": "[encoded data removed]",
      "text/plain": [
       "<matplotlib.figure.Figure at 0x115946b38>"
      ]
     },
     "metadata": {},
     "output_type": "display_data"
    }
   ],
   "source": [
    "a = plt.hist(X_normal_train[:, 5])\n",
    "plt.show()"
   ]
  },
  {
   "cell_type": "code",
   "execution_count": 5,
   "metadata": {},
   "outputs": [
    {
     "data": {
      "image/png": "[encoded data removed]",
      "text/plain": [
       "<matplotlib.figure.Figure at 0x1113d50f0>"
      ]
     },
     "metadata": {},
     "output_type": "display_data"
    }
   ],
   "source": [
    "plt.hist(X_anomaly[:, 5])\n",
    "plt.show()"
   ]
  },
  {
   "cell_type": "code",
   "execution_count": 6,
   "metadata": {},
   "outputs": [
    {
     "data": {
      "text/plain": [
       "KernelDensity(algorithm='auto', atol=0, bandwidth=1, breadth_first=True,\n",
       "       kernel='gaussian', leaf_size=40, metric='euclidean',\n",
       "       metric_params=None, rtol=0)"
      ]
     },
     "execution_count": 6,
     "metadata": {},
     "output_type": "execute_result"
    }
   ],
   "source": [
    "from sklearn.neighbors import KernelDensity\n",
    "clf = KernelDensity(bandwidth=1)\n",
    "clf.fit(X_normal_train)"
   ]
  },
  {
   "cell_type": "code",
   "execution_count": 7,
   "metadata": {},
   "outputs": [
    {
     "data": {
      "text/plain": [
       "-7.757162032702103"
      ]
     },
     "execution_count": 7,
     "metadata": {},
     "output_type": "execute_result"
    }
   ],
   "source": [
    "clf.score_samples(X_normal_test).mean()"
   ]
  },
  {
   "cell_type": "code",
   "execution_count": 8,
   "metadata": {},
   "outputs": [
    {
     "data": {
      "text/plain": [
       "-9.889399064089876"
      ]
     },
     "execution_count": 8,
     "metadata": {},
     "output_type": "execute_result"
    }
   ],
   "source": [
    "clf.score_samples(X_anomaly).mean()"
   ]
  },
  {
   "cell_type": "code",
   "execution_count": 9,
   "metadata": {},
   "outputs": [
    {
     "data": {
      "text/plain": [
       "0.7509293680297398"
      ]
     },
     "execution_count": 9,
     "metadata": {},
     "output_type": "execute_result"
    }
   ],
   "source": [
    "pred = np.array(list(clf.score_samples(X_normal_test)) + list(clf.score_samples(X_anomaly)))\n",
    "f1_score(y_test, pred < -8)"
   ]
  },
  {
   "cell_type": "code",
   "execution_count": 10,
   "metadata": {},
   "outputs": [
    {
     "name": "stdout",
     "output_type": "stream",
     "text": [
      "0.7851373182552505 -7.3699999999999495\n"
     ]
    }
   ],
   "source": [
    "thrs = np.arange(-5, -10, -0.01)\n",
    "best_thrs = None\n",
    "best_score = 0\n",
    "for i in thrs:\n",
    "    score = f1_score(y_test, pred < i)\n",
    "    if score > best_score:\n",
    "        best_score = score\n",
    "        best_thrs = i\n",
    "print (best_score, best_thrs)"
   ]
  },
  {
   "cell_type": "code",
   "execution_count": 11,
   "metadata": {
    "collapsed": true
   },
   "outputs": [],
   "source": [
    "from sklearn.mixture import GaussianMixture\n",
    "clf = GaussianMixture(n_components=1)\n",
    "clf.fit(X_normal_train)\n",
    "pred = np.array(list(clf.score_samples(X_normal_test)) + list(clf.score_samples(X_anomaly)))"
   ]
  },
  {
   "cell_type": "code",
   "execution_count": 12,
   "metadata": {},
   "outputs": [
    {
     "name": "stderr",
     "output_type": "stream",
     "text": [
      "/Users/v.vikulin/anaconda/lib/python3.5/site-packages/sklearn/metrics/classification.py:1143: UndefinedMetricWarning: F-score is ill-defined and being set to 0.0 due to no predicted samples.\n",
      "  'precision', 'predicted', average, warn_for)\n"
     ]
    },
    {
     "name": "stdout",
     "output_type": "stream",
     "text": [
      "0.7892976588628764 -6.209928305196797\n"
     ]
    }
   ],
   "source": [
    "thrs = np.arange(min(pred), max(pred), 0.1)\n",
    "best_thrs = None\n",
    "best_score = 0\n",
    "for i in thrs:\n",
    "    score = f1_score(y_test, pred < i)\n",
    "    if score > best_score:\n",
    "        best_score = score\n",
    "        best_thrs = i\n",
    "print (best_score, best_thrs)"
   ]
  },
  {
   "cell_type": "markdown",
   "metadata": {},
   "source": [
    "Как мы можем теперь новые знания применить в конкурсе?"
   ]
  },
  {
   "cell_type": "code",
   "execution_count": null,
   "metadata": {
    "collapsed": true
   },
   "outputs": [],
   "source": []
  },
  {
   "cell_type": "markdown",
   "metadata": {},
   "source": [
    "Алгоритмы кластеризации позволяют решать огромное число задач. Давайте теперь попробуем поклассифицировать цифры!"
   ]
  },
  {
   "cell_type": "code",
   "execution_count": 37,
   "metadata": {},
   "outputs": [],
   "source": [
    "import numpy as np\n",
    "from sklearn import datasets\n",
    "from sklearn.mixture import GaussianMixture\n",
    "from sklearn.linear_model import LogisticRegression\n",
    "from sklearn.preprocessing import StandardScaler\n",
    "from sklearn.decomposition import PCA\n",
    "from sklearn.metrics import accuracy_score\n",
    "from sklearn.model_selection import train_test_split\n",
    "import matplotlib.pyplot as plt\n",
    "import warnings\n",
    "warnings.filterwarnings('ignore')"
   ]
  },
  {
   "cell_type": "code",
   "execution_count": 38,
   "metadata": {},
   "outputs": [
    {
     "name": "stdout",
     "output_type": "stream",
     "text": [
      "Датасет размера:  (1797, 64)\n"
     ]
    }
   ],
   "source": [
    "digits = datasets.load_digits()\n",
    "print (\"Датасет размера: \", digits.data.shape)\n",
    "data = digits.data\n",
    "y = digits.target"
   ]
  },
  {
   "cell_type": "code",
   "execution_count": 39,
   "metadata": {},
   "outputs": [
    {
     "data": {
      "image/png": "[encoded data removed]",
      "text/plain": [
       "<matplotlib.figure.Figure at 0x108f169b0>"
      ]
     },
     "metadata": {},
     "output_type": "display_data"
    }
   ],
   "source": [
    "# code from https://jakevdp.github.io/PythonDataScienceHandbook/05.12-gaussian-mixtures.html\n",
    "\n",
    "def plot_digits(data):\n",
    "    fig, ax = plt.subplots(10, 10, figsize=(8, 8),\n",
    "                           subplot_kw=dict(xticks=[], yticks=[]))\n",
    "    fig.subplots_adjust(hspace=0.05, wspace=0.05)\n",
    "    for i, axi in enumerate(ax.flat):\n",
    "        im = axi.imshow(data[i].reshape(8, 8), cmap='binary')\n",
    "        im.set_clim(0, 16)\n",
    "    plt.show()\n",
    "        \n",
    "plot_digits(digits.data)"
   ]
  },
  {
   "cell_type": "code",
   "execution_count": 40,
   "metadata": {
    "collapsed": true
   },
   "outputs": [],
   "source": [
    "def get_predicts_for_clusters(clusters,  labels):\n",
    "    \"\"\"\n",
    "    Функция каждому кластеру присваивает метку, например, по принципу \n",
    "    большинства.\n",
    "    clusters -- список размера N каждый элемент номер кластера из трейна\n",
    "    labels   -- список размера N каждый элемент метка объекта  из трейна\n",
    "    return   -- словарь {кластер : метка для данного кластера} \n",
    "    \"\"\"\n",
    "    cluster_predicts = {}\n",
    "    for new_cluster in set(clusters):\n",
    "        cluster_data = clusters[clusters == new_cluster]\n",
    "        labels_data =  labels[clusters == new_cluster]\n",
    "        best_label = None\n",
    "        best_count = -1\n",
    "        for new_label in set(labels):\n",
    "            new_count = sum( labels_data == new_label )\n",
    "            if new_count > best_count:\n",
    "                best_count = new_count\n",
    "                best_label = new_label\n",
    "        cluster_predicts[new_cluster] = best_label\n",
    "    return cluster_predicts\n",
    "\n",
    "\n",
    "def get_predicts_on_test(clusters, cluster_2_pred):\n",
    "    \"\"\"\n",
    "    Функция выдает предсказания по списку кластеров\n",
    "    и выходу функции get_predicts_for_clusters\n",
    "    clusters      -- список размера N каждый элемент номер кластера из теста\n",
    "    cluster_pred  -- словарь {кластер : метка для данного кластера} \n",
    "    return        -- список размера N каждый элемент предсказанная метка из теста\n",
    "    \"\"\"\n",
    "    return np.array([cluster_2_pred[i] if i in cluster_2_pred else 0 for i in clusters])"
   ]
  },
  {
   "cell_type": "code",
   "execution_count": 41,
   "metadata": {
    "collapsed": true
   },
   "outputs": [],
   "source": [
    "new_gmm = GaussianMixture(n_components=10, random_state=0).fit(data)\n",
    "\n",
    "X_train, X_test, y_train, y_test = train_test_split(data, y, test_size=0.9, random_state=241)\n"
   ]
  },
  {
   "cell_type": "markdown",
   "metadata": {},
   "source": [
    "Задача, где неразмеченных данных больше, чем данных с таргетами. Semisupervised learning."
   ]
  },
  {
   "cell_type": "code",
   "execution_count": 42,
   "metadata": {},
   "outputs": [
    {
     "name": "stdout",
     "output_type": "stream",
     "text": [
      "Accuracy is 0.7972805933250927\n"
     ]
    }
   ],
   "source": [
    "cluster_2_pred = get_predicts_for_clusters(new_gmm.predict(X_train), y_train)\n",
    "preds_test = get_predicts_on_test(new_gmm.predict(X_test), cluster_2_pred) \n",
    "print (\"Accuracy is \" + str(accuracy_score(y_test, preds_test)))"
   ]
  },
  {
   "cell_type": "code",
   "execution_count": 46,
   "metadata": {},
   "outputs": [
    {
     "name": "stdout",
     "output_type": "stream",
     "text": [
      "Num clusters: 1. Accuracy  is 0.09456118665018541\n",
      "Num clusters: 3. Accuracy  is 0.15636588380716934\n",
      "Num clusters: 5. Accuracy  is 0.35970333745364647\n",
      "Num clusters: 7. Accuracy  is 0.5444993819530284\n",
      "Num clusters: 9. Accuracy  is 0.6835599505562423\n",
      "Num clusters: 11. Accuracy  is 0.8016069221260815\n",
      "Num clusters: 13. Accuracy  is 0.811495673671199\n",
      "Num clusters: 15. Accuracy  is 0.8887515451174289\n",
      "Num clusters: 17. Accuracy  is 0.8671199011124846\n",
      "Num clusters: 19. Accuracy  is 0.9177997527812114\n",
      "Num clusters: 21. Accuracy  is 0.880716934487021\n",
      "Num clusters: 23. Accuracy  is 0.8881334981458591\n",
      "Num clusters: 25. Accuracy  is 0.9239802224969098\n",
      "Num clusters: 27. Accuracy  is 0.907292954264524\n",
      "Num clusters: 29. Accuracy  is 0.9134734239802225\n"
     ]
    }
   ],
   "source": [
    "new_gmm = GaussianMixture(n_components=10, random_state=0).fit(data)\n",
    "for i in range(1, 30, 2):\n",
    "    new_gmm = GaussianMixture(n_components=i, random_state=0).fit(data)\n",
    "    cluster_2_pred = get_predicts_for_clusters(new_gmm.predict(X_train), y_train)\n",
    "    preds_test = get_predicts_on_test(new_gmm.predict(X_test), cluster_2_pred) \n",
    "    print (\"Num clusters: \"  + str(i) +  \". Accuracy  is \" + str(accuracy_score(y_test, preds_test)))\n",
    "\n"
   ]
  },
  {
   "cell_type": "markdown",
   "metadata": {},
   "source": [
    "Как Вы думаете, почему лучшее решение не для 10 компонент?"
   ]
  },
  {
   "cell_type": "markdown",
   "metadata": {},
   "source": [
    "А что покажет логистическая регрессия?"
   ]
  },
  {
   "cell_type": "code",
   "execution_count": 44,
   "metadata": {},
   "outputs": [
    {
     "name": "stdout",
     "output_type": "stream",
     "text": [
      "0.8899876390605687\n"
     ]
    }
   ],
   "source": [
    "scaler = StandardScaler().fit(data)\n",
    "X_test_lr = scaler.transform(X_test)\n",
    "X_train_lr = scaler.transform(X_train)\n",
    "clf = LogisticRegression().fit(X_train_lr, y_train)\n",
    "print (accuracy_score(y_test, clf.predict(X_test_lr)))"
   ]
  },
  {
   "cell_type": "markdown",
   "metadata": {},
   "source": [
    "А если извлечь признаки из EM?"
   ]
  },
  {
   "cell_type": "code",
   "execution_count": 45,
   "metadata": {},
   "outputs": [
    {
     "name": "stdout",
     "output_type": "stream",
     "text": [
      "0.9276885043263288\n"
     ]
    }
   ],
   "source": [
    "new_gmm = GaussianMixture(n_components=20, random_state=0).fit(data)\n",
    "X_train_em = new_gmm.predict_proba(X_train)\n",
    "X_test_em = new_gmm.predict_proba(X_test)\n",
    "scaler = StandardScaler().fit(X_test_em)\n",
    "X_test_em = scaler.transform(X_test_em)\n",
    "X_train_em = scaler.transform(X_train_em)\n",
    "clf = LogisticRegression().fit(X_train_em, y_train)\n",
    "print (accuracy_score(y_test, clf.predict(X_test_em)))"
   ]
  },
  {
   "cell_type": "markdown",
   "metadata": {},
   "source": [
    "Мораль: semisupervised learning реально помогает, позволяет извлекать структуру, обучаясь на всех данных, а не только на разметке!"
   ]
  },
  {
   "cell_type": "code",
   "execution_count": 50,
   "metadata": {},
   "outputs": [
    {
     "data": {
      "text/plain": [
       "(100, 64)"
      ]
     },
     "execution_count": 50,
     "metadata": {},
     "output_type": "execute_result"
    }
   ],
   "source": [
    "data_new, components = new_gmm.sample(100)\n",
    "data_new.shape"
   ]
  },
  {
   "cell_type": "code",
   "execution_count": 53,
   "metadata": {},
   "outputs": [
    {
     "data": {
      "image/png": "[encoded data removed]",
      "text/plain": [
       "<matplotlib.figure.Figure at 0x110996128>"
      ]
     },
     "metadata": {},
     "output_type": "display_data"
    }
   ],
   "source": [
    "plot_digits(data_new)"
   ]
  },
  {
   "cell_type": "markdown",
   "metadata": {},
   "source": [
    "Мы создали френкенштейна! АААА"
   ]
  },
  {
   "cell_type": "markdown",
   "metadata": {},
   "source": [
    "Почему GMM такое может? Потому что генеративная модель, она моделирует  p(x, y), а только p(y|x)! Модель, которая моделирует p(y|x) называется дискриминативной. \n",
    "\n",
    "Какие Вы знаете дискриминативные модели? Генеративные?"
   ]
  },
  {
   "cell_type": "markdown",
   "metadata": {},
   "source": [
    "https://medium.com/coinmonks/celebrity-face-generation-using-gans-tensorflow-implementation-eaa2001eef86 (смотреть только картинки, код и формулы пропускать!)"
   ]
  },
  {
   "cell_type": "code",
   "execution_count": null,
   "metadata": {
    "collapsed": true
   },
   "outputs": [],
   "source": []
  }
 ],
 "metadata": {
  "anaconda-cloud": {},
  "kernelspec": {
   "display_name": "Python [anaconda]",
   "language": "python",
   "name": "Python [anaconda]"
  },
  "language_info": {
   "codemirror_mode": {
    "name": "ipython",
    "version": 3
   },
   "file_extension": ".py",
   "mimetype": "text/x-python",
   "name": "python",
   "nbconvert_exporter": "python",
   "pygments_lexer": "ipython3",
   "version": "3.5.4"
  }
 },
 "nbformat": 4,
 "nbformat_minor": 2
}

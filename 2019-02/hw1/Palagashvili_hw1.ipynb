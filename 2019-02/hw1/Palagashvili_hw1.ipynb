{
 "cells": [
  {
   "cell_type": "markdown",
   "metadata": {},
   "source": [
    "**Общая информация**\n",
    "\n",
    "**Срок сдачи:** 20 марта 2019, 06:00 <br\\>\n",
    "**Штраф за опоздание:** -1 балл после 06:00 20 марта, -2 балла после 06:00 27 марта, -3 балла после 06:00 3 апреля\n",
    "\n",
    "При отправлении ДЗ указывайте фамилию в названии файла\n",
    "Присылать ДЗ необходимо в виде ссылки на свой github репозиторий в slack @alkhamush\n",
    "\n",
    "Необходимо в slack скинуть ссылку в личный чат @alkhamush\n",
    "Пример ссылки:\n",
    "https://github.com/stroykova/spheremailru/stroykova_hw1.ipynb \n",
    "\n",
    "\n",
    "Используйте данный Ipython Notebook при оформлении домашнего задания."
   ]
  },
  {
   "cell_type": "markdown",
   "metadata": {},
   "source": [
    "###### Задание 1 (2 баллов)\n",
    "Реализовать KNN в классе MyKNeighborsClassifier (обязательное условие: точность не ниже sklearn реализации)\n",
    "Разберитесь самостоятельно, какая мера расстояния используется в KNeighborsClassifier дефолтно и реализуйте свой алгоритм именно с этой мерой. Самостоятельно разберитесь, как считается score из KNeighborsClassifier и реализуйте аналог в своём классе. Score не должен уступать значению KNN из sklearn\n",
    "\n",
    "###### Задание 2 (2 балла)\n",
    "Добиться скорости работы на fit,  predict и predict_proba сравнимой со sklearn для iris и mnist\n",
    "Для этого используем numpy\n",
    "\n",
    "###### Задание 3 (2 балла)\n",
    "Для iris найдите такой параметр n_neighbors, при котором выдаётся наилучший score. Нарисуйте график зависимости score от n_neighbors\n",
    "\n",
    "###### Задание 4 (3 балла)\n",
    "Добавить algorithm='kd_tree' в реализацию KNN (использовать KDTree из sklearn.neighbors). Значение n_neighbors нужно взять из задания 3. Добиться скорости работы на fit,  predict и predict_proba сравнимой со sklearn для iris и mnist\n",
    "Для этого используем numpy. Score не должен уступать значению KNN из sklearn\n",
    "\n",
    "###### Задание 5 (1 балла)\n",
    "Описать для чего нужны следующие библиотеки/классы/функции (список будет ниже)\n",
    "\n",
    "**Штрафные баллы:**\n",
    "\n",
    "1. Невыполнение PEP8 -1 балл\n",
    "2. Отсутствие фамилии в имени скрипта (скрипт должен называться по аналогии со stroykova_hw1.ipynb) -1 балл\n",
    "3. Все строчки должны быть выполнены. Нужно, чтобы output команды можно было увидеть уже в git'е. В противном случае -1 балл\n",
    "4. При оформлении ДЗ нужно пользоваться данным файлом в качестве шаблона. Не нужно удалять и видоизменять структуру кода и текст. В противном случае -1 балл\n"
   ]
  },
  {
   "cell_type": "code",
   "execution_count": 1,
   "metadata": {
    "collapsed": true
   },
   "outputs": [],
   "source": [
    "import numpy as np\n",
    "import scipy as sc\n",
    "import matplotlib.pyplot as plt\n",
    "\n",
    "import seaborn as sns\n",
    "from sklearn import datasets\n",
    "from sklearn.base import ClassifierMixin\n",
    "from sklearn.datasets import fetch_mldata\n",
    "from sklearn.neighbors.base import NeighborsBase, KNeighborsMixin, SupervisedIntegerMixin \n",
    "from sklearn.neighbors import KDTree\n",
    "from sklearn.model_selection import train_test_split\n",
    "from sklearn.neighbors import KNeighborsClassifier\n",
    "%load_ext pycodestyle_magic"
   ]
  },
  {
   "cell_type": "code",
   "execution_count": 16,
   "metadata": {
    "collapsed": true
   },
   "outputs": [],
   "source": [
    "#%%pycodestyle\n",
    "\n",
    "\n",
    "class MyKNeighborsClassifier(NeighborsBase, KNeighborsMixin,\n",
    "                             SupervisedIntegerMixin, ClassifierMixin):\n",
    "\n",
    "    def __init__(self, n_neighbors=5, algorithm='brute'):\n",
    "        self.n_neighbors = n_neighbors\n",
    "        self._fit_method = algorithm\n",
    "\n",
    "    def fit(self, X, y):\n",
    "        self.X = X\n",
    "        if self._fit_method == 'kd_tree':\n",
    "            self.tree = KDTree(X)\n",
    "        self.y = y\n",
    "        self.labels = np.unique(y)\n",
    "        self.l_num = self.labels.shape[0]\n",
    "\n",
    "    def _get_arr(self, X):\n",
    "        if self._fit_method == 'kd_tree':\n",
    "            _, ind = self.tree.query(X, k=self.n_neighbors)\n",
    "            return self.y[ind]\n",
    "        else:\n",
    "            ind = np.argpartition(sc.spatial.distance.cdist(X, self.X),\n",
    "                                  self.n_neighbors)\n",
    "            return self.y[ind[:, :self.n_neighbors]]\n",
    "\n",
    "    def predict(self, X):\n",
    "        arr = self._get_arr(X)\n",
    "        return np.array(sc.stats.mode(arr, axis=1))[0].reshape(len(X))\n",
    "\n",
    "    def predict_proba(self, X):\n",
    "        arr = self._get_arr(X).astype(int)\n",
    "        return np.apply_along_axis(lambda x:\n",
    "                                   np.bincount(x, minlength=self.l_num) /\n",
    "                                   np.sum(np.bincount(x,\n",
    "                                                      minlength=self.l_num)),\n",
    "                                   1, arr)\n",
    "\n",
    "    def score(self, X, y):\n",
    "        pred = self.predict(X)\n",
    "        return sum(pred == y) / len(y)"
   ]
  },
  {
   "cell_type": "markdown",
   "metadata": {},
   "source": [
    "**IRIS**"
   ]
  },
  {
   "cell_type": "code",
   "execution_count": 18,
   "metadata": {
    "collapsed": true
   },
   "outputs": [],
   "source": [
    "iris = datasets.load_iris()"
   ]
  },
  {
   "cell_type": "code",
   "execution_count": 19,
   "metadata": {
    "collapsed": true
   },
   "outputs": [],
   "source": [
    "X_train, X_test, y_train, y_test = train_test_split(iris.data, iris.target, test_size=0.2, stratify=iris.target)"
   ]
  },
  {
   "cell_type": "code",
   "execution_count": 20,
   "metadata": {},
   "outputs": [],
   "source": [
    "clf = KNeighborsClassifier(n_neighbors=2)\n",
    "my_clf = MyKNeighborsClassifier(n_neighbors=2)"
   ]
  },
  {
   "cell_type": "code",
   "execution_count": 21,
   "metadata": {},
   "outputs": [
    {
     "name": "stdout",
     "output_type": "stream",
     "text": [
      "CPU times: user 545 µs, sys: 3.6 ms, total: 4.14 ms\n",
      "Wall time: 39 ms\n"
     ]
    },
    {
     "data": {
      "text/plain": [
       "KNeighborsClassifier(algorithm='auto', leaf_size=30, metric='minkowski',\n",
       "           metric_params=None, n_jobs=1, n_neighbors=2, p=2,\n",
       "           weights='uniform')"
      ]
     },
     "execution_count": 21,
     "metadata": {},
     "output_type": "execute_result"
    }
   ],
   "source": [
    "%time clf.fit(X_train, y_train)"
   ]
  },
  {
   "cell_type": "code",
   "execution_count": 22,
   "metadata": {},
   "outputs": [
    {
     "name": "stdout",
     "output_type": "stream",
     "text": [
      "CPU times: user 214 µs, sys: 26 µs, total: 240 µs\n",
      "Wall time: 139 µs\n"
     ]
    }
   ],
   "source": [
    "%time my_clf.fit(X_train, y_train)"
   ]
  },
  {
   "cell_type": "code",
   "execution_count": 23,
   "metadata": {},
   "outputs": [
    {
     "data": {
      "text/plain": [
       "array([2, 0, 2, 2, 2, 2, 0, 1, 0, 2, 1, 1, 1, 1, 0, 0, 0, 0, 1, 1, 2, 0, 0,\n",
       "       1, 2, 1, 0, 1, 2, 1])"
      ]
     },
     "execution_count": 23,
     "metadata": {},
     "output_type": "execute_result"
    }
   ],
   "source": [
    "my_clf.predict(X_test)"
   ]
  },
  {
   "cell_type": "code",
   "execution_count": 24,
   "metadata": {},
   "outputs": [
    {
     "name": "stdout",
     "output_type": "stream",
     "text": [
      "CPU times: user 4.24 ms, sys: 30 µs, total: 4.27 ms\n",
      "Wall time: 3.56 ms\n"
     ]
    },
    {
     "data": {
      "text/plain": [
       "array([2, 0, 2, 2, 2, 2, 0, 1, 0, 2, 1, 1, 1, 1, 0, 0, 0, 0, 1, 1, 2, 0, 0,\n",
       "       1, 2, 1, 0, 1, 2, 1])"
      ]
     },
     "execution_count": 24,
     "metadata": {},
     "output_type": "execute_result"
    }
   ],
   "source": [
    "%time clf.predict(X_test)"
   ]
  },
  {
   "cell_type": "code",
   "execution_count": 25,
   "metadata": {},
   "outputs": [
    {
     "name": "stdout",
     "output_type": "stream",
     "text": [
      "CPU times: user 1.54 ms, sys: 189 µs, total: 1.73 ms\n",
      "Wall time: 1.24 ms\n"
     ]
    },
    {
     "data": {
      "text/plain": [
       "array([2, 0, 2, 2, 2, 2, 0, 1, 0, 2, 1, 1, 1, 1, 0, 0, 0, 0, 1, 1, 2, 0, 0,\n",
       "       1, 2, 1, 0, 1, 2, 1])"
      ]
     },
     "execution_count": 25,
     "metadata": {},
     "output_type": "execute_result"
    }
   ],
   "source": [
    "%time my_clf.predict(X_test)"
   ]
  },
  {
   "cell_type": "code",
   "execution_count": 26,
   "metadata": {},
   "outputs": [
    {
     "name": "stdout",
     "output_type": "stream",
     "text": [
      "CPU times: user 2.2 ms, sys: 269 µs, total: 2.47 ms\n",
      "Wall time: 1.88 ms\n"
     ]
    },
    {
     "data": {
      "text/plain": [
       "array([[ 0.,  0.,  1.],\n",
       "       [ 1.,  0.,  0.],\n",
       "       [ 0.,  0.,  1.],\n",
       "       [ 0.,  0.,  1.],\n",
       "       [ 0.,  0.,  1.],\n",
       "       [ 0.,  0.,  1.],\n",
       "       [ 1.,  0.,  0.],\n",
       "       [ 0.,  1.,  0.],\n",
       "       [ 1.,  0.,  0.],\n",
       "       [ 0.,  0.,  1.],\n",
       "       [ 0.,  1.,  0.],\n",
       "       [ 0.,  1.,  0.],\n",
       "       [ 0.,  1.,  0.],\n",
       "       [ 0.,  1.,  0.],\n",
       "       [ 1.,  0.,  0.],\n",
       "       [ 1.,  0.,  0.],\n",
       "       [ 1.,  0.,  0.],\n",
       "       [ 1.,  0.,  0.],\n",
       "       [ 0.,  1.,  0.],\n",
       "       [ 0.,  1.,  0.],\n",
       "       [ 0.,  0.,  1.],\n",
       "       [ 1.,  0.,  0.],\n",
       "       [ 1.,  0.,  0.],\n",
       "       [ 0.,  1.,  0.],\n",
       "       [ 0.,  0.,  1.],\n",
       "       [ 0.,  1.,  0.],\n",
       "       [ 1.,  0.,  0.],\n",
       "       [ 0.,  1.,  0.],\n",
       "       [ 0.,  0.,  1.],\n",
       "       [ 0.,  1.,  0.]])"
      ]
     },
     "execution_count": 26,
     "metadata": {},
     "output_type": "execute_result"
    }
   ],
   "source": [
    "%time clf.predict_proba(X_test)"
   ]
  },
  {
   "cell_type": "code",
   "execution_count": 27,
   "metadata": {},
   "outputs": [
    {
     "name": "stdout",
     "output_type": "stream",
     "text": [
      "CPU times: user 4.96 ms, sys: 3.26 ms, total: 8.22 ms\n",
      "Wall time: 5.9 ms\n"
     ]
    },
    {
     "data": {
      "text/plain": [
       "array([[ 0.,  0.,  1.],\n",
       "       [ 1.,  0.,  0.],\n",
       "       [ 0.,  0.,  1.],\n",
       "       [ 0.,  0.,  1.],\n",
       "       [ 0.,  0.,  1.],\n",
       "       [ 0.,  0.,  1.],\n",
       "       [ 1.,  0.,  0.],\n",
       "       [ 0.,  1.,  0.],\n",
       "       [ 1.,  0.,  0.],\n",
       "       [ 0.,  0.,  1.],\n",
       "       [ 0.,  1.,  0.],\n",
       "       [ 0.,  1.,  0.],\n",
       "       [ 0.,  1.,  0.],\n",
       "       [ 0.,  1.,  0.],\n",
       "       [ 1.,  0.,  0.],\n",
       "       [ 1.,  0.,  0.],\n",
       "       [ 1.,  0.,  0.],\n",
       "       [ 1.,  0.,  0.],\n",
       "       [ 0.,  1.,  0.],\n",
       "       [ 0.,  1.,  0.],\n",
       "       [ 0.,  0.,  1.],\n",
       "       [ 1.,  0.,  0.],\n",
       "       [ 1.,  0.,  0.],\n",
       "       [ 0.,  1.,  0.],\n",
       "       [ 0.,  0.,  1.],\n",
       "       [ 0.,  1.,  0.],\n",
       "       [ 1.,  0.,  0.],\n",
       "       [ 0.,  1.,  0.],\n",
       "       [ 0.,  0.,  1.],\n",
       "       [ 0.,  1.,  0.]])"
      ]
     },
     "execution_count": 27,
     "metadata": {},
     "output_type": "execute_result"
    }
   ],
   "source": [
    "%time my_clf.predict_proba(X_test)"
   ]
  },
  {
   "cell_type": "code",
   "execution_count": 28,
   "metadata": {},
   "outputs": [
    {
     "data": {
      "text/plain": [
       "0.96666666666666667"
      ]
     },
     "execution_count": 28,
     "metadata": {},
     "output_type": "execute_result"
    }
   ],
   "source": [
    "clf.score(X_test, y_test)"
   ]
  },
  {
   "cell_type": "code",
   "execution_count": 29,
   "metadata": {},
   "outputs": [
    {
     "data": {
      "text/plain": [
       "0.96666666666666667"
      ]
     },
     "execution_count": 29,
     "metadata": {},
     "output_type": "execute_result"
    }
   ],
   "source": [
    "my_clf.score(X_test, y_test)"
   ]
  },
  {
   "cell_type": "markdown",
   "metadata": {},
   "source": [
    "Задание 3"
   ]
  },
  {
   "cell_type": "code",
   "execution_count": 30,
   "metadata": {
    "scrolled": true
   },
   "outputs": [
    {
     "data": {
      "image/png": "[encoded data removed]",
      "text/plain": [
       "<matplotlib.figure.Figure at 0x7f39f04437b8>"
      ]
     },
     "metadata": {},
     "output_type": "display_data"
    },
    {
     "data": {
      "image/png": "[encoded data removed]",
      "text/plain": [
       "<matplotlib.figure.Figure at 0x7f39f0443898>"
      ]
     },
     "metadata": {},
     "output_type": "display_data"
    }
   ],
   "source": [
    "buf1 = []\n",
    "buf2 = []\n",
    "for k in range(1, 20):\n",
    "    clf = KNeighborsClassifier(n_neighbors=k)\n",
    "    my_clf = MyKNeighborsClassifier(n_neighbors=k)\n",
    "    clf.fit(X_train, y_train)\n",
    "    my_clf.fit(X_train, y_train)\n",
    "    buf1.append(clf.score(X_test, y_test))\n",
    "    buf2.append(my_clf.score(X_test, y_test))\n",
    "\n",
    "fig = plt.figure(figsize=(15, 5))\n",
    "ax1 = plt.plot(buf1, 'r', label='SKlearn KNN')\n",
    "plt.ylabel(\"Score\")\n",
    "plt.legend(loc='upper right')\n",
    "\n",
    "fig = plt.figure(figsize=(15, 5))\n",
    "ax2 = plt.plot(buf2, label='Custom KNN')\n",
    "plt.ylabel(\"Score\")\n",
    "plt.legend(loc='upper right')\n",
    "plt.show()"
   ]
  },
  {
   "cell_type": "code",
   "execution_count": 31,
   "metadata": {},
   "outputs": [
    {
     "data": {
      "text/plain": [
       "5"
      ]
     },
     "execution_count": 31,
     "metadata": {},
     "output_type": "execute_result"
    }
   ],
   "source": [
    "optim_param = np.argmax(buf1) + 1\n",
    "optim_param"
   ]
  },
  {
   "cell_type": "markdown",
   "metadata": {},
   "source": [
    "**MNIST**"
   ]
  },
  {
   "cell_type": "code",
   "execution_count": 32,
   "metadata": {
    "collapsed": true
   },
   "outputs": [],
   "source": [
    "mnist = fetch_mldata('MNIST original')"
   ]
  },
  {
   "cell_type": "code",
   "execution_count": 33,
   "metadata": {
    "collapsed": true
   },
   "outputs": [],
   "source": [
    "X_train, X_test, y_train, y_test = train_test_split(mnist.data, mnist.target, test_size=0.01, stratify=mnist.target)"
   ]
  },
  {
   "cell_type": "code",
   "execution_count": 34,
   "metadata": {
    "collapsed": true
   },
   "outputs": [],
   "source": [
    "clf = KNeighborsClassifier(n_neighbors=2)\n",
    "my_clf = MyKNeighborsClassifier(n_neighbors=2)"
   ]
  },
  {
   "cell_type": "code",
   "execution_count": 35,
   "metadata": {},
   "outputs": [
    {
     "name": "stdout",
     "output_type": "stream",
     "text": [
      "CPU times: user 42 s, sys: 215 ms, total: 42.2 s\n",
      "Wall time: 42.4 s\n"
     ]
    },
    {
     "data": {
      "text/plain": [
       "KNeighborsClassifier(algorithm='auto', leaf_size=30, metric='minkowski',\n",
       "           metric_params=None, n_jobs=1, n_neighbors=2, p=2,\n",
       "           weights='uniform')"
      ]
     },
     "execution_count": 35,
     "metadata": {},
     "output_type": "execute_result"
    }
   ],
   "source": [
    "%time clf.fit(X_train, y_train)"
   ]
  },
  {
   "cell_type": "code",
   "execution_count": 36,
   "metadata": {},
   "outputs": [
    {
     "name": "stdout",
     "output_type": "stream",
     "text": [
      "CPU times: user 3.67 ms, sys: 0 ns, total: 3.67 ms\n",
      "Wall time: 2.77 ms\n"
     ]
    }
   ],
   "source": [
    "%time my_clf.fit(X_train, y_train)"
   ]
  },
  {
   "cell_type": "code",
   "execution_count": 37,
   "metadata": {},
   "outputs": [
    {
     "name": "stdout",
     "output_type": "stream",
     "text": [
      "CPU times: user 1min 31s, sys: 112 ms, total: 1min 31s\n",
      "Wall time: 1min 32s\n"
     ]
    },
    {
     "data": {
      "text/plain": [
       "array([ 7.,  7.,  4.,  3.,  2.,  2.,  9.,  3.,  2.,  1.,  7.,  1.,  4.,\n",
       "        2.,  5.,  5.,  9.,  8.,  1.,  1.,  7.,  3.,  9.,  2.,  0.,  9.,\n",
       "        2.,  2.,  6.,  2.,  1.,  0.,  7.,  8.,  7.,  7.,  7.,  1.,  5.,\n",
       "        1.,  9.,  3.,  1.,  5.,  7.,  9.,  5.,  4.,  2.,  7.,  7.,  6.,\n",
       "        1.,  4.,  5.,  3.,  9.,  4.,  6.,  2.,  2.,  8.,  6.,  6.,  5.,\n",
       "        8.,  0.,  4.,  5.,  5.,  7.,  7.,  0.,  8.,  9.,  7.,  3.,  7.,\n",
       "        3.,  1.,  1.,  6.,  5.,  1.,  0.,  3.,  6.,  6.,  1.,  3.,  0.,\n",
       "        0.,  2.,  4.,  7.,  6.,  1.,  0.,  3.,  1.,  1.,  7.,  9.,  3.,\n",
       "        5.,  4.,  6.,  0.,  4.,  5.,  5.,  3.,  1.,  4.,  7.,  1.,  2.,\n",
       "        4.,  7.,  4.,  1.,  0.,  4.,  6.,  8.,  7.,  5.,  2.,  6.,  7.,\n",
       "        4.,  7.,  6.,  9.,  1.,  5.,  6.,  8.,  4.,  6.,  9.,  6.,  1.,\n",
       "        7.,  8.,  6.,  8.,  2.,  3.,  0.,  6.,  7.,  6.,  8.,  8.,  1.,\n",
       "        2.,  8.,  8.,  6.,  9.,  4.,  2.,  4.,  9.,  6.,  6.,  4.,  4.,\n",
       "        0.,  8.,  6.,  3.,  2.,  9.,  5.,  1.,  8.,  0.,  8.,  8.,  4.,\n",
       "        7.,  3.,  8.,  3.,  3.,  2.,  3.,  6.,  1.,  3.,  0.,  4.,  4.,\n",
       "        7.,  6.,  9.,  6.,  2.,  0.,  8.,  4.,  8.,  3.,  8.,  7.,  6.,\n",
       "        3.,  4.,  7.,  6.,  5.,  4.,  9.,  1.,  5.,  2.,  8.,  9.,  2.,\n",
       "        4.,  1.,  3.,  0.,  3.,  8.,  5.,  1.,  5.,  4.,  1.,  3.,  0.,\n",
       "        7.,  9.,  9.,  9.,  3.,  5.,  4.,  3.,  1.,  1.,  4.,  6.,  3.,\n",
       "        7.,  9.,  4.,  2.,  0.,  3.,  8.,  1.,  4.,  9.,  1.,  7.,  1.,\n",
       "        1.,  6.,  4.,  2.,  5.,  6.,  1.,  8.,  1.,  1.,  0.,  4.,  9.,\n",
       "        0.,  3.,  0.,  4.,  7.,  8.,  1.,  1.,  8.,  3.,  9.,  9.,  1.,\n",
       "        0.,  0.,  2.,  0.,  5.,  2.,  8.,  9.,  1.,  3.,  7.,  3.,  0.,\n",
       "        4.,  2.,  3.,  1.,  5.,  3.,  4.,  6.,  9.,  4.,  7.,  0.,  6.,\n",
       "        8.,  8.,  7.,  2.,  7.,  2.,  2.,  8.,  1.,  0.,  1.,  6.,  5.,\n",
       "        0.,  5.,  2.,  4.,  4.,  5.,  5.,  9.,  2.,  0.,  8.,  3.,  6.,\n",
       "        4.,  0.,  6.,  4.,  8.,  7.,  3.,  5.,  6.,  3.,  3.,  9.,  1.,\n",
       "        7.,  4.,  1.,  9.,  5.,  3.,  9.,  3.,  5.,  1.,  2.,  4.,  3.,\n",
       "        0.,  7.,  4.,  5.,  0.,  1.,  9.,  2.,  2.,  6.,  9.,  2.,  0.,\n",
       "        9.,  2.,  5.,  5.,  1.,  4.,  3.,  0.,  9.,  1.,  0.,  7.,  8.,\n",
       "        8.,  0.,  2.,  3.,  6.,  3.,  1.,  4.,  1.,  6.,  8.,  0.,  0.,\n",
       "        8.,  9.,  7.,  9.,  3.,  5.,  5.,  2.,  4.,  8.,  8.,  8.,  1.,\n",
       "        9.,  3.,  7.,  4.,  7.,  0.,  9.,  4.,  9.,  5.,  7.,  1.,  0.,\n",
       "        4.,  9.,  0.,  1.,  2.,  2.,  6.,  8.,  7.,  4.,  9.,  5.,  7.,\n",
       "        4.,  8.,  6.,  0.,  7.,  0.,  4.,  5.,  6.,  2.,  9.,  3.,  7.,\n",
       "        9.,  3.,  1.,  6.,  2.,  8.,  5.,  7.,  3.,  1.,  1.,  2.,  1.,\n",
       "        0.,  5.,  9.,  6.,  6.,  3.,  3.,  9.,  5.,  8.,  3.,  2.,  9.,\n",
       "        6.,  5.,  7.,  7.,  1.,  0.,  6.,  2.,  1.,  0.,  2.,  9.,  0.,\n",
       "        3.,  7.,  0.,  6.,  5.,  3.,  4.,  6.,  6.,  7.,  4.,  1.,  1.,\n",
       "        9.,  2.,  9.,  8.,  9.,  7.,  7.,  6.,  0.,  3.,  9.,  3.,  2.,\n",
       "        0.,  2.,  1.,  4.,  1.,  0.,  9.,  0.,  4.,  2.,  1.,  0.,  5.,\n",
       "        3.,  5.,  7.,  7.,  0.,  0.,  3.,  0.,  1.,  6.,  8.,  0.,  1.,\n",
       "        6.,  2.,  0.,  0.,  8.,  2.,  9.,  5.,  3.,  2.,  0.,  8.,  7.,\n",
       "        9.,  5.,  1.,  4.,  9.,  4.,  7.,  5.,  0.,  7.,  2.,  6.,  1.,\n",
       "        0.,  0.,  8.,  3.,  2.,  3.,  3.,  3.,  2.,  2.,  9.,  6.,  6.,\n",
       "        9.,  8.,  8.,  6.,  4.,  7.,  7.,  3.,  1.,  4.,  4.,  7.,  1.,\n",
       "        0.,  0.,  1.,  1.,  1.,  0.,  1.,  6.,  8.,  9.,  6.,  9.,  4.,\n",
       "        2.,  3.,  0.,  3.,  7.,  9.,  6.,  3.,  4.,  8.,  2.,  2.,  4.,\n",
       "        9.,  8.,  4.,  2.,  4.,  1.,  0.,  2.,  9.,  5.,  9.,  6.,  3.,\n",
       "        0.,  6.,  1.,  4.,  5.,  1.,  8.,  6.,  1.,  9.,  8.,  5.,  6.,\n",
       "        3.,  2.,  9.,  2.,  0.,  5.,  4.,  2.,  5.,  2.,  3.,  7.,  5.,\n",
       "        0.,  1.,  7.,  8.,  5.,  3.,  5.,  7.,  8.,  3.,  2.,  3.,  2.,\n",
       "        8.,  8.,  4.,  7.,  0.,  3.,  7.,  3.,  5.,  7.,  2.,  4.,  8.,\n",
       "        9.,  6.,  0.,  6.,  3.,  0.,  3.,  9.,  1.,  7.,  8.])"
      ]
     },
     "execution_count": 37,
     "metadata": {},
     "output_type": "execute_result"
    }
   ],
   "source": [
    "%time clf.predict(X_test)"
   ]
  },
  {
   "cell_type": "code",
   "execution_count": 38,
   "metadata": {},
   "outputs": [
    {
     "name": "stdout",
     "output_type": "stream",
     "text": [
      "CPU times: user 32.6 s, sys: 585 ms, total: 33.2 s\n",
      "Wall time: 33.5 s\n"
     ]
    },
    {
     "data": {
      "text/plain": [
       "array([ 7.,  7.,  4.,  3.,  2.,  2.,  9.,  3.,  2.,  1.,  7.,  1.,  4.,\n",
       "        2.,  5.,  5.,  9.,  8.,  1.,  1.,  7.,  3.,  9.,  2.,  0.,  9.,\n",
       "        2.,  2.,  6.,  2.,  1.,  0.,  7.,  8.,  7.,  7.,  7.,  1.,  5.,\n",
       "        1.,  9.,  3.,  1.,  5.,  7.,  9.,  5.,  4.,  2.,  7.,  7.,  6.,\n",
       "        1.,  4.,  5.,  3.,  9.,  4.,  6.,  2.,  2.,  8.,  6.,  6.,  5.,\n",
       "        8.,  0.,  4.,  5.,  5.,  7.,  7.,  0.,  8.,  9.,  7.,  3.,  7.,\n",
       "        3.,  1.,  1.,  6.,  5.,  1.,  0.,  3.,  6.,  6.,  1.,  3.,  0.,\n",
       "        0.,  2.,  4.,  7.,  6.,  1.,  0.,  3.,  1.,  1.,  7.,  9.,  3.,\n",
       "        5.,  4.,  6.,  0.,  4.,  5.,  5.,  3.,  1.,  4.,  7.,  1.,  2.,\n",
       "        4.,  7.,  4.,  1.,  0.,  4.,  6.,  8.,  7.,  5.,  2.,  6.,  7.,\n",
       "        4.,  7.,  6.,  9.,  1.,  5.,  6.,  8.,  4.,  6.,  9.,  6.,  1.,\n",
       "        7.,  8.,  6.,  8.,  2.,  3.,  0.,  6.,  7.,  6.,  8.,  8.,  1.,\n",
       "        2.,  8.,  8.,  6.,  9.,  4.,  2.,  4.,  9.,  6.,  6.,  4.,  4.,\n",
       "        0.,  8.,  6.,  3.,  2.,  9.,  5.,  1.,  8.,  0.,  8.,  8.,  4.,\n",
       "        7.,  3.,  8.,  3.,  3.,  2.,  3.,  6.,  1.,  3.,  0.,  4.,  4.,\n",
       "        7.,  6.,  9.,  6.,  2.,  0.,  8.,  4.,  8.,  3.,  8.,  7.,  6.,\n",
       "        3.,  4.,  7.,  6.,  5.,  4.,  9.,  1.,  5.,  2.,  8.,  9.,  2.,\n",
       "        4.,  1.,  3.,  0.,  3.,  8.,  5.,  1.,  5.,  4.,  1.,  3.,  0.,\n",
       "        7.,  9.,  9.,  9.,  3.,  5.,  4.,  3.,  1.,  1.,  4.,  6.,  3.,\n",
       "        7.,  9.,  4.,  2.,  0.,  3.,  8.,  1.,  4.,  9.,  1.,  7.,  1.,\n",
       "        1.,  6.,  4.,  2.,  5.,  6.,  1.,  8.,  1.,  1.,  0.,  4.,  9.,\n",
       "        0.,  3.,  0.,  4.,  7.,  8.,  1.,  1.,  8.,  3.,  9.,  9.,  1.,\n",
       "        0.,  0.,  2.,  0.,  5.,  2.,  8.,  9.,  1.,  3.,  7.,  3.,  0.,\n",
       "        4.,  2.,  3.,  1.,  5.,  3.,  4.,  6.,  9.,  4.,  7.,  0.,  6.,\n",
       "        8.,  8.,  7.,  2.,  7.,  2.,  2.,  8.,  1.,  0.,  1.,  6.,  5.,\n",
       "        0.,  5.,  2.,  4.,  4.,  5.,  5.,  9.,  2.,  0.,  8.,  3.,  6.,\n",
       "        4.,  0.,  6.,  4.,  8.,  7.,  3.,  5.,  6.,  3.,  3.,  9.,  1.,\n",
       "        7.,  4.,  1.,  9.,  5.,  3.,  9.,  3.,  5.,  1.,  2.,  4.,  3.,\n",
       "        0.,  7.,  4.,  5.,  0.,  1.,  9.,  2.,  2.,  6.,  9.,  2.,  0.,\n",
       "        9.,  2.,  5.,  5.,  1.,  4.,  3.,  0.,  9.,  1.,  0.,  7.,  8.,\n",
       "        8.,  0.,  2.,  3.,  6.,  3.,  1.,  4.,  1.,  6.,  8.,  0.,  0.,\n",
       "        8.,  9.,  7.,  9.,  3.,  5.,  5.,  2.,  4.,  8.,  8.,  8.,  1.,\n",
       "        9.,  3.,  7.,  4.,  7.,  0.,  9.,  4.,  9.,  5.,  7.,  1.,  0.,\n",
       "        4.,  9.,  0.,  1.,  2.,  2.,  6.,  8.,  7.,  4.,  9.,  5.,  7.,\n",
       "        4.,  8.,  6.,  0.,  7.,  0.,  4.,  5.,  6.,  2.,  9.,  3.,  7.,\n",
       "        9.,  3.,  1.,  6.,  2.,  8.,  5.,  7.,  3.,  1.,  1.,  2.,  1.,\n",
       "        0.,  5.,  9.,  6.,  6.,  3.,  3.,  9.,  5.,  8.,  3.,  2.,  9.,\n",
       "        6.,  5.,  7.,  7.,  1.,  0.,  6.,  2.,  1.,  0.,  2.,  9.,  0.,\n",
       "        3.,  7.,  0.,  6.,  5.,  3.,  4.,  6.,  6.,  7.,  4.,  1.,  1.,\n",
       "        9.,  2.,  9.,  8.,  9.,  7.,  7.,  6.,  0.,  3.,  9.,  3.,  2.,\n",
       "        0.,  2.,  1.,  4.,  1.,  0.,  9.,  0.,  4.,  2.,  1.,  0.,  5.,\n",
       "        3.,  5.,  7.,  7.,  0.,  0.,  3.,  0.,  1.,  6.,  8.,  0.,  1.,\n",
       "        6.,  2.,  0.,  0.,  8.,  2.,  9.,  5.,  3.,  2.,  0.,  8.,  7.,\n",
       "        9.,  5.,  1.,  4.,  9.,  4.,  7.,  5.,  0.,  7.,  2.,  6.,  1.,\n",
       "        0.,  0.,  8.,  3.,  2.,  3.,  3.,  3.,  2.,  2.,  9.,  6.,  6.,\n",
       "        9.,  8.,  8.,  6.,  4.,  7.,  7.,  3.,  1.,  4.,  4.,  7.,  1.,\n",
       "        0.,  0.,  1.,  1.,  1.,  0.,  1.,  6.,  8.,  9.,  6.,  9.,  4.,\n",
       "        2.,  3.,  0.,  3.,  7.,  9.,  6.,  3.,  4.,  8.,  2.,  2.,  4.,\n",
       "        9.,  8.,  4.,  2.,  4.,  1.,  0.,  2.,  9.,  5.,  9.,  6.,  3.,\n",
       "        0.,  6.,  1.,  4.,  5.,  1.,  8.,  6.,  1.,  9.,  8.,  5.,  6.,\n",
       "        3.,  2.,  9.,  2.,  0.,  5.,  4.,  2.,  5.,  2.,  3.,  7.,  5.,\n",
       "        0.,  1.,  7.,  8.,  5.,  3.,  5.,  7.,  8.,  3.,  2.,  3.,  2.,\n",
       "        8.,  8.,  4.,  7.,  0.,  3.,  7.,  3.,  5.,  7.,  2.,  4.,  8.,\n",
       "        9.,  6.,  0.,  6.,  3.,  0.,  3.,  9.,  1.,  7.,  8.])"
      ]
     },
     "execution_count": 38,
     "metadata": {},
     "output_type": "execute_result"
    }
   ],
   "source": [
    "%time my_clf.predict(X_test)"
   ]
  },
  {
   "cell_type": "code",
   "execution_count": 39,
   "metadata": {},
   "outputs": [
    {
     "name": "stdout",
     "output_type": "stream",
     "text": [
      "CPU times: user 1min 29s, sys: 67.6 ms, total: 1min 29s\n",
      "Wall time: 1min 29s\n"
     ]
    },
    {
     "data": {
      "text/plain": [
       "array([[ 0.,  0.,  0., ...,  1.,  0.,  0.],\n",
       "       [ 0.,  0.,  0., ...,  1.,  0.,  0.],\n",
       "       [ 0.,  0.,  0., ...,  0.,  0.,  0.],\n",
       "       ..., \n",
       "       [ 0.,  1.,  0., ...,  0.,  0.,  0.],\n",
       "       [ 0.,  0.,  0., ...,  1.,  0.,  0.],\n",
       "       [ 0.,  0.,  0., ...,  0.,  1.,  0.]])"
      ]
     },
     "execution_count": 39,
     "metadata": {},
     "output_type": "execute_result"
    }
   ],
   "source": [
    "%time clf.predict_proba(X_test)"
   ]
  },
  {
   "cell_type": "code",
   "execution_count": 40,
   "metadata": {},
   "outputs": [
    {
     "name": "stdout",
     "output_type": "stream",
     "text": [
      "CPU times: user 31.3 s, sys: 480 ms, total: 31.8 s\n",
      "Wall time: 31.8 s\n"
     ]
    },
    {
     "data": {
      "text/plain": [
       "array([[ 0.,  0.,  0., ...,  1.,  0.,  0.],\n",
       "       [ 0.,  0.,  0., ...,  1.,  0.,  0.],\n",
       "       [ 0.,  0.,  0., ...,  0.,  0.,  0.],\n",
       "       ..., \n",
       "       [ 0.,  1.,  0., ...,  0.,  0.,  0.],\n",
       "       [ 0.,  0.,  0., ...,  1.,  0.,  0.],\n",
       "       [ 0.,  0.,  0., ...,  0.,  1.,  0.]])"
      ]
     },
     "execution_count": 40,
     "metadata": {},
     "output_type": "execute_result"
    }
   ],
   "source": [
    "%time my_clf.predict_proba(X_test)"
   ]
  },
  {
   "cell_type": "code",
   "execution_count": 41,
   "metadata": {},
   "outputs": [
    {
     "name": "stdout",
     "output_type": "stream",
     "text": [
      "CPU times: user 1min 31s, sys: 75.3 ms, total: 1min 31s\n",
      "Wall time: 1min 31s\n"
     ]
    },
    {
     "data": {
      "text/plain": [
       "0.97142857142857142"
      ]
     },
     "execution_count": 41,
     "metadata": {},
     "output_type": "execute_result"
    }
   ],
   "source": [
    "%time clf.score(X_test, y_test)"
   ]
  },
  {
   "cell_type": "code",
   "execution_count": 42,
   "metadata": {},
   "outputs": [
    {
     "name": "stdout",
     "output_type": "stream",
     "text": [
      "CPU times: user 32.5 s, sys: 816 ms, total: 33.4 s\n",
      "Wall time: 33.8 s\n"
     ]
    },
    {
     "data": {
      "text/plain": [
       "0.97142857142857142"
      ]
     },
     "execution_count": 42,
     "metadata": {},
     "output_type": "execute_result"
    }
   ],
   "source": [
    "%time my_clf.score(X_test, y_test)"
   ]
  },
  {
   "cell_type": "markdown",
   "metadata": {},
   "source": [
    "Задание 4"
   ]
  },
  {
   "cell_type": "code",
   "execution_count": 43,
   "metadata": {
    "collapsed": true
   },
   "outputs": [],
   "source": [
    "clf = KNeighborsClassifier(n_neighbors=2, algorithm='kd_tree')\n",
    "my_clf = MyKNeighborsClassifier(n_neighbors=2, algorithm='kd_tree')"
   ]
  },
  {
   "cell_type": "code",
   "execution_count": 44,
   "metadata": {
    "collapsed": true
   },
   "outputs": [],
   "source": [
    "X_train, X_test, y_train, y_test = train_test_split(mnist.data, mnist.target, test_size=0.01, stratify=mnist.target)"
   ]
  },
  {
   "cell_type": "code",
   "execution_count": 45,
   "metadata": {},
   "outputs": [
    {
     "name": "stdout",
     "output_type": "stream",
     "text": [
      "CPU times: user 40.9 s, sys: 192 ms, total: 41.1 s\n",
      "Wall time: 41.1 s\n"
     ]
    },
    {
     "data": {
      "text/plain": [
       "KNeighborsClassifier(algorithm='kd_tree', leaf_size=30, metric='minkowski',\n",
       "           metric_params=None, n_jobs=1, n_neighbors=2, p=2,\n",
       "           weights='uniform')"
      ]
     },
     "execution_count": 45,
     "metadata": {},
     "output_type": "execute_result"
    }
   ],
   "source": [
    "%time clf.fit(X_train, y_train)"
   ]
  },
  {
   "cell_type": "code",
   "execution_count": 46,
   "metadata": {},
   "outputs": [
    {
     "name": "stdout",
     "output_type": "stream",
     "text": [
      "CPU times: user 39.6 s, sys: 197 ms, total: 39.8 s\n",
      "Wall time: 39.6 s\n"
     ]
    }
   ],
   "source": [
    "%time my_clf.fit(X_train, y_train)"
   ]
  },
  {
   "cell_type": "code",
   "execution_count": 47,
   "metadata": {},
   "outputs": [
    {
     "name": "stdout",
     "output_type": "stream",
     "text": [
      "CPU times: user 1min 32s, sys: 31.7 ms, total: 1min 32s\n",
      "Wall time: 1min 32s\n"
     ]
    },
    {
     "data": {
      "text/plain": [
       "array([ 8.,  4.,  1.,  8.,  4.,  9.,  5.,  7.,  3.,  4.,  0.,  5.,  4.,\n",
       "        6.,  9.,  2.,  9.,  2.,  9.,  8.,  3.,  3.,  1.,  6.,  7.,  3.,\n",
       "        5.,  1.,  2.,  9.,  1.,  8.,  7.,  9.,  1.,  2.,  6.,  0.,  6.,\n",
       "        2.,  3.,  6.,  3.,  4.,  8.,  4.,  9.,  1.,  6.,  2.,  4.,  7.,\n",
       "        2.,  9.,  7.,  8.,  7.,  0.,  0.,  5.,  8.,  3.,  6.,  1.,  3.,\n",
       "        6.,  9.,  0.,  9.,  7.,  4.,  9.,  5.,  0.,  8.,  4.,  3.,  7.,\n",
       "        8.,  5.,  0.,  2.,  2.,  5.,  5.,  8.,  3.,  8.,  5.,  6.,  8.,\n",
       "        4.,  7.,  3.,  5.,  1.,  4.,  3.,  2.,  4.,  4.,  7.,  7.,  9.,\n",
       "        8.,  0.,  7.,  7.,  6.,  5.,  7.,  4.,  0.,  8.,  0.,  1.,  1.,\n",
       "        8.,  3.,  1.,  9.,  4.,  8.,  9.,  1.,  2.,  6.,  5.,  2.,  0.,\n",
       "        4.,  9.,  5.,  6.,  1.,  3.,  8.,  2.,  7.,  4.,  2.,  3.,  2.,\n",
       "        7.,  3.,  5.,  0.,  3.,  4.,  9.,  4.,  6.,  5.,  3.,  6.,  0.,\n",
       "        2.,  3.,  7.,  8.,  3.,  0.,  1.,  1.,  5.,  5.,  9.,  6.,  0.,\n",
       "        4.,  6.,  6.,  0.,  5.,  9.,  0.,  3.,  6.,  0.,  0.,  5.,  7.,\n",
       "        2.,  6.,  9.,  2.,  4.,  0.,  7.,  7.,  4.,  5.,  5.,  6.,  2.,\n",
       "        2.,  2.,  7.,  0.,  5.,  7.,  4.,  9.,  9.,  0.,  1.,  3.,  0.,\n",
       "        4.,  3.,  3.,  4.,  5.,  4.,  5.,  2.,  1.,  7.,  3.,  5.,  7.,\n",
       "        8.,  1.,  3.,  3.,  5.,  4.,  8.,  2.,  1.,  2.,  8.,  4.,  1.,\n",
       "        1.,  9.,  7.,  0.,  1.,  9.,  5.,  3.,  7.,  7.,  9.,  1.,  6.,\n",
       "        6.,  3.,  0.,  9.,  3.,  8.,  8.,  1.,  3.,  9.,  8.,  8.,  4.,\n",
       "        2.,  3.,  1.,  0.,  8.,  4.,  4.,  5.,  8.,  9.,  7.,  5.,  0.,\n",
       "        7.,  7.,  0.,  5.,  2.,  3.,  9.,  6.,  1.,  1.,  9.,  3.,  8.,\n",
       "        2.,  3.,  0.,  1.,  1.,  4.,  6.,  9.,  2.,  6.,  0.,  0.,  2.,\n",
       "        9.,  2.,  2.,  4.,  0.,  4.,  7.,  3.,  8.,  1.,  3.,  0.,  0.,\n",
       "        1.,  1.,  6.,  4.,  1.,  7.,  1.,  3.,  2.,  3.,  9.,  9.,  0.,\n",
       "        3.,  6.,  0.,  8.,  4.,  9.,  5.,  9.,  1.,  9.,  8.,  4.,  7.,\n",
       "        4.,  4.,  8.,  8.,  3.,  7.,  1.,  2.,  4.,  5.,  9.,  4.,  0.,\n",
       "        3.,  3.,  1.,  0.,  9.,  4.,  7.,  3.,  0.,  1.,  9.,  8.,  3.,\n",
       "        9.,  4.,  4.,  3.,  9.,  5.,  9.,  9.,  8.,  9.,  6.,  9.,  1.,\n",
       "        6.,  7.,  8.,  4.,  6.,  6.,  6.,  6.,  6.,  2.,  6.,  3.,  7.,\n",
       "        6.,  1.,  2.,  7.,  8.,  9.,  0.,  1.,  1.,  3.,  1.,  6.,  8.,\n",
       "        7.,  3.,  7.,  4.,  6.,  0.,  2.,  4.,  4.,  6.,  7.,  3.,  1.,\n",
       "        1.,  6.,  2.,  9.,  4.,  2.,  5.,  5.,  2.,  1.,  6.,  4.,  1.,\n",
       "        8.,  9.,  5.,  7.,  0.,  1.,  8.,  2.,  5.,  2.,  7.,  1.,  5.,\n",
       "        1.,  8.,  3.,  2.,  3.,  1.,  7.,  3.,  3.,  5.,  8.,  0.,  1.,\n",
       "        5.,  7.,  5.,  2.,  5.,  5.,  7.,  2.,  9.,  4.,  0.,  8.,  9.,\n",
       "        4.,  3.,  1.,  1.,  9.,  7.,  9.,  2.,  8.,  3.,  4.,  4.,  1.,\n",
       "        2.,  3.,  7.,  1.,  9.,  0.,  9.,  7.,  6.,  2.,  9.,  6.,  1.,\n",
       "        6.,  1.,  9.,  0.,  6.,  6.,  1.,  6.,  1.,  7.,  1.,  0.,  8.,\n",
       "        0.,  7.,  9.,  1.,  1.,  8.,  8.,  5.,  3.,  7.,  3.,  6.,  7.,\n",
       "        7.,  2.,  4.,  3.,  3.,  2.,  5.,  0.,  5.,  4.,  8.,  6.,  1.,\n",
       "        2.,  8.,  4.,  3.,  8.,  9.,  7.,  1.,  0.,  1.,  5.,  5.,  2.,\n",
       "        9.,  6.,  0.,  3.,  3.,  3.,  0.,  7.,  5.,  6.,  5.,  0.,  2.,\n",
       "        0.,  3.,  1.,  8.,  7.,  8.,  9.,  0.,  3.,  5.,  0.,  6.,  2.,\n",
       "        4.,  9.,  0.,  2.,  2.,  1.,  1.,  1.,  6.,  2.,  1.,  7.,  5.,\n",
       "        4.,  3.,  2.,  2.,  9.,  2.,  9.,  5.,  1.,  3.,  7.,  8.,  9.,\n",
       "        8.,  7.,  0.,  6.,  2.,  3.,  9.,  7.,  6.,  8.,  5.,  1.,  1.,\n",
       "        2.,  4.,  4.,  8.,  0.,  4.,  2.,  4.,  3.,  5.,  6.,  0.,  7.,\n",
       "        0.,  8.,  5.,  0.,  5.,  7.,  5.,  3.,  8.,  8.,  0.,  4.,  6.,\n",
       "        9.,  7.,  1.,  8.,  7.,  2.,  7.,  2.,  1.,  6.,  1.,  0.,  5.,\n",
       "        0.,  2.,  6.,  6.,  7.,  9.,  1.,  7.,  6.,  4.,  1.,  5.,  5.,\n",
       "        0.,  6.,  1.,  2.,  5.,  6.,  6.,  6.,  7.,  0.,  6.,  2.,  7.,\n",
       "        8.,  1.,  2.,  2.,  2.,  0.,  4.,  6.,  1.,  4.,  7.,  5.,  5.,\n",
       "        4.,  7.,  0.,  1.,  7.,  9.,  0.,  4.,  0.,  3.,  8.])"
      ]
     },
     "execution_count": 47,
     "metadata": {},
     "output_type": "execute_result"
    }
   ],
   "source": [
    "%time clf.predict(X_test)"
   ]
  },
  {
   "cell_type": "code",
   "execution_count": 48,
   "metadata": {},
   "outputs": [
    {
     "name": "stdout",
     "output_type": "stream",
     "text": [
      "CPU times: user 1min 17s, sys: 124 ms, total: 1min 17s\n",
      "Wall time: 1min 17s\n"
     ]
    },
    {
     "data": {
      "text/plain": [
       "array([ 8.,  4.,  1.,  8.,  4.,  9.,  5.,  7.,  3.,  4.,  0.,  5.,  4.,\n",
       "        6.,  9.,  2.,  9.,  2.,  9.,  8.,  3.,  3.,  1.,  6.,  7.,  3.,\n",
       "        5.,  1.,  2.,  9.,  1.,  8.,  7.,  9.,  1.,  2.,  6.,  0.,  6.,\n",
       "        2.,  3.,  6.,  3.,  4.,  8.,  4.,  9.,  1.,  6.,  2.,  4.,  7.,\n",
       "        2.,  9.,  7.,  8.,  7.,  0.,  0.,  5.,  8.,  3.,  6.,  1.,  3.,\n",
       "        6.,  9.,  0.,  9.,  7.,  4.,  9.,  5.,  0.,  8.,  4.,  3.,  7.,\n",
       "        8.,  5.,  0.,  2.,  2.,  5.,  5.,  8.,  3.,  8.,  5.,  6.,  8.,\n",
       "        4.,  7.,  3.,  5.,  1.,  4.,  3.,  2.,  4.,  4.,  7.,  7.,  9.,\n",
       "        8.,  0.,  7.,  7.,  6.,  5.,  7.,  4.,  0.,  8.,  0.,  1.,  1.,\n",
       "        8.,  3.,  1.,  9.,  4.,  8.,  9.,  1.,  2.,  6.,  5.,  2.,  0.,\n",
       "        4.,  9.,  5.,  6.,  1.,  3.,  8.,  2.,  7.,  4.,  2.,  3.,  2.,\n",
       "        7.,  3.,  5.,  0.,  3.,  4.,  9.,  4.,  6.,  5.,  3.,  6.,  0.,\n",
       "        2.,  3.,  7.,  8.,  3.,  0.,  1.,  1.,  5.,  5.,  9.,  6.,  0.,\n",
       "        4.,  6.,  6.,  0.,  5.,  9.,  0.,  3.,  6.,  0.,  0.,  5.,  7.,\n",
       "        2.,  6.,  9.,  2.,  4.,  0.,  7.,  7.,  4.,  5.,  5.,  6.,  2.,\n",
       "        2.,  2.,  7.,  0.,  5.,  7.,  4.,  9.,  9.,  0.,  1.,  3.,  0.,\n",
       "        4.,  3.,  3.,  4.,  5.,  4.,  5.,  2.,  1.,  7.,  3.,  5.,  7.,\n",
       "        8.,  1.,  3.,  3.,  5.,  4.,  8.,  2.,  1.,  2.,  8.,  4.,  1.,\n",
       "        1.,  9.,  7.,  0.,  1.,  9.,  5.,  3.,  7.,  7.,  9.,  1.,  6.,\n",
       "        6.,  3.,  0.,  9.,  3.,  8.,  8.,  1.,  3.,  9.,  8.,  8.,  4.,\n",
       "        2.,  3.,  1.,  0.,  8.,  4.,  4.,  5.,  8.,  9.,  7.,  5.,  0.,\n",
       "        7.,  7.,  0.,  5.,  2.,  3.,  9.,  6.,  1.,  1.,  9.,  3.,  8.,\n",
       "        2.,  3.,  0.,  1.,  1.,  4.,  6.,  9.,  2.,  6.,  0.,  0.,  2.,\n",
       "        9.,  2.,  2.,  4.,  0.,  4.,  7.,  3.,  8.,  1.,  3.,  0.,  0.,\n",
       "        1.,  1.,  6.,  4.,  1.,  7.,  1.,  3.,  2.,  3.,  9.,  9.,  0.,\n",
       "        3.,  6.,  0.,  8.,  4.,  9.,  5.,  9.,  1.,  9.,  8.,  4.,  7.,\n",
       "        4.,  4.,  8.,  8.,  3.,  7.,  1.,  2.,  4.,  5.,  9.,  4.,  0.,\n",
       "        3.,  3.,  1.,  0.,  9.,  4.,  7.,  3.,  0.,  1.,  9.,  8.,  3.,\n",
       "        9.,  4.,  4.,  3.,  9.,  5.,  9.,  9.,  8.,  9.,  6.,  9.,  1.,\n",
       "        6.,  7.,  8.,  4.,  6.,  6.,  6.,  6.,  6.,  2.,  6.,  3.,  7.,\n",
       "        6.,  1.,  2.,  7.,  8.,  9.,  0.,  1.,  1.,  3.,  1.,  6.,  8.,\n",
       "        7.,  3.,  7.,  4.,  6.,  0.,  2.,  4.,  4.,  6.,  7.,  3.,  1.,\n",
       "        1.,  6.,  2.,  9.,  4.,  2.,  5.,  5.,  2.,  1.,  6.,  4.,  1.,\n",
       "        8.,  9.,  5.,  7.,  0.,  1.,  8.,  2.,  5.,  2.,  7.,  1.,  5.,\n",
       "        1.,  8.,  3.,  2.,  3.,  1.,  7.,  3.,  3.,  5.,  8.,  0.,  1.,\n",
       "        5.,  7.,  5.,  2.,  5.,  5.,  7.,  2.,  9.,  4.,  0.,  8.,  9.,\n",
       "        4.,  3.,  1.,  1.,  9.,  7.,  9.,  2.,  8.,  3.,  4.,  4.,  1.,\n",
       "        2.,  3.,  7.,  1.,  9.,  0.,  9.,  7.,  6.,  2.,  9.,  6.,  1.,\n",
       "        6.,  1.,  9.,  0.,  6.,  6.,  1.,  6.,  1.,  7.,  1.,  0.,  8.,\n",
       "        0.,  7.,  9.,  1.,  1.,  8.,  8.,  5.,  3.,  7.,  3.,  6.,  7.,\n",
       "        7.,  2.,  4.,  3.,  3.,  2.,  5.,  0.,  5.,  4.,  8.,  6.,  1.,\n",
       "        2.,  8.,  4.,  3.,  8.,  9.,  7.,  1.,  0.,  1.,  5.,  5.,  2.,\n",
       "        9.,  6.,  0.,  3.,  3.,  3.,  0.,  7.,  5.,  6.,  5.,  0.,  2.,\n",
       "        0.,  3.,  1.,  8.,  7.,  8.,  9.,  0.,  3.,  5.,  0.,  6.,  2.,\n",
       "        4.,  9.,  0.,  2.,  2.,  1.,  1.,  1.,  6.,  2.,  1.,  7.,  5.,\n",
       "        4.,  3.,  2.,  2.,  9.,  2.,  9.,  5.,  1.,  3.,  7.,  8.,  9.,\n",
       "        8.,  7.,  0.,  6.,  2.,  3.,  9.,  7.,  6.,  8.,  5.,  1.,  1.,\n",
       "        2.,  4.,  4.,  8.,  0.,  4.,  2.,  4.,  3.,  5.,  6.,  0.,  7.,\n",
       "        0.,  8.,  5.,  0.,  5.,  7.,  5.,  3.,  8.,  8.,  0.,  4.,  6.,\n",
       "        9.,  7.,  1.,  8.,  7.,  2.,  7.,  2.,  1.,  6.,  1.,  0.,  5.,\n",
       "        0.,  2.,  6.,  6.,  7.,  9.,  1.,  7.,  6.,  4.,  1.,  5.,  5.,\n",
       "        0.,  6.,  1.,  2.,  5.,  6.,  6.,  6.,  7.,  0.,  6.,  2.,  7.,\n",
       "        8.,  1.,  2.,  2.,  2.,  0.,  4.,  6.,  1.,  4.,  7.,  5.,  5.,\n",
       "        4.,  7.,  0.,  1.,  7.,  9.,  0.,  4.,  0.,  3.,  8.])"
      ]
     },
     "execution_count": 48,
     "metadata": {},
     "output_type": "execute_result"
    }
   ],
   "source": [
    "%time my_clf.predict(X_test)"
   ]
  },
  {
   "cell_type": "code",
   "execution_count": 49,
   "metadata": {},
   "outputs": [
    {
     "name": "stdout",
     "output_type": "stream",
     "text": [
      "CPU times: user 1min 31s, sys: 23.9 ms, total: 1min 31s\n",
      "Wall time: 1min 31s\n"
     ]
    },
    {
     "data": {
      "text/plain": [
       "array([[ 0. ,  0. ,  0. , ...,  0. ,  1. ,  0. ],\n",
       "       [ 0. ,  0. ,  0. , ...,  0. ,  0. ,  0. ],\n",
       "       [ 0. ,  1. ,  0. , ...,  0. ,  0. ,  0. ],\n",
       "       ..., \n",
       "       [ 1. ,  0. ,  0. , ...,  0. ,  0. ,  0. ],\n",
       "       [ 0. ,  0. ,  0. , ...,  0. ,  0. ,  0. ],\n",
       "       [ 0. ,  0. ,  0. , ...,  0. ,  0.5,  0.5]])"
      ]
     },
     "execution_count": 49,
     "metadata": {},
     "output_type": "execute_result"
    }
   ],
   "source": [
    "%time clf.predict_proba(X_test)"
   ]
  },
  {
   "cell_type": "code",
   "execution_count": 50,
   "metadata": {},
   "outputs": [
    {
     "name": "stdout",
     "output_type": "stream",
     "text": [
      "CPU times: user 1min 16s, sys: 176 ms, total: 1min 17s\n",
      "Wall time: 1min 17s\n"
     ]
    },
    {
     "data": {
      "text/plain": [
       "array([[ 0. ,  0. ,  0. , ...,  0. ,  1. ,  0. ],\n",
       "       [ 0. ,  0. ,  0. , ...,  0. ,  0. ,  0. ],\n",
       "       [ 0. ,  1. ,  0. , ...,  0. ,  0. ,  0. ],\n",
       "       ..., \n",
       "       [ 1. ,  0. ,  0. , ...,  0. ,  0. ,  0. ],\n",
       "       [ 0. ,  0. ,  0. , ...,  0. ,  0. ,  0. ],\n",
       "       [ 0. ,  0. ,  0. , ...,  0. ,  0.5,  0.5]])"
      ]
     },
     "execution_count": 50,
     "metadata": {},
     "output_type": "execute_result"
    }
   ],
   "source": [
    "%time my_clf.predict_proba(X_test)"
   ]
  },
  {
   "cell_type": "code",
   "execution_count": 51,
   "metadata": {},
   "outputs": [
    {
     "data": {
      "text/plain": [
       "0.96571428571428575"
      ]
     },
     "execution_count": 51,
     "metadata": {},
     "output_type": "execute_result"
    }
   ],
   "source": [
    "clf.score(X_test, y_test)"
   ]
  },
  {
   "cell_type": "code",
   "execution_count": 52,
   "metadata": {},
   "outputs": [
    {
     "data": {
      "text/plain": [
       "0.96571428571428575"
      ]
     },
     "execution_count": 52,
     "metadata": {},
     "output_type": "execute_result"
    }
   ],
   "source": [
    "my_clf.score(X_test, y_test)"
   ]
  },
  {
   "cell_type": "markdown",
   "metadata": {},
   "source": [
    "Задание 5"
   ]
  },
  {
   "cell_type": "code",
   "execution_count": null,
   "metadata": {
    "collapsed": true
   },
   "outputs": [],
   "source": [
    "# seaborn - библиотека для визуализации, основанная на matplotlib\n",
    "# matplotlib - основная библиотека для визуализации\n",
    "# train_test_split - метод для разделения выборки на обучающую и тестовую\n",
    "# Pipelin%load_ext e (from sklearn.pipeline import Pipeline) - объект конвейера для последовательных преобразований с некоторой моделью в конце\n",
    "# StandardScaler (from sklearn.preprocessing import StandardScaler) - функция для центрирования и нормирования выборки\n",
    "# ClassifierMixin - базовый класс для всех классификаторов, реализует метод score(), возвращающий метрику accuracy\n",
    "# NeighborsBase - метод _fit() вызывается после вызова метода fit() класса SupervisedIntegerMixin и реализует логику по сохранению выборки X \n",
    "# и устнановки параметров метрики.Метод _check_algorithm_metric используется для проверки параметров метрики\n",
    "# KNeighborsMixin - реализует функции kneighbors и kneighbors_graph для нахождения k ближайших соседей и построения графа соседей соответственно\n",
    "# SupervisedIntegerMixin - используется для проверки типа y при вызове fit()"
   ]
  }
 ],
 "metadata": {
  "kernelspec": {
   "display_name": "Python 3",
   "language": "python",
   "name": "python3"
  },
  "language_info": {
   "codemirror_mode": {
    "name": "ipython",
    "version": 3
   },
   "file_extension": ".py",
   "mimetype": "text/x-python",
   "name": "python",
   "nbconvert_exporter": "python",
   "pygments_lexer": "ipython3",
   "version": "3.6.2"
  }
 },
 "nbformat": 4,
 "nbformat_minor": 2
}

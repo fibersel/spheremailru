{
 "cells": [
  {
   "cell_type": "markdown",
   "metadata": {},
   "source": [
    "**Общая информация**\n",
    "\n",
    "**Срок сдачи:** 20 марта 2019, 06:00 <br\\>\n",
    "**Штраф за опоздание:** -1 балл после 06:00 20 марта, -2 балла после 06:00 27 марта, -3 балла после 06:00 3 апреля\n",
    "\n",
    "При отправлении ДЗ указывайте фамилию в названии файла\n",
    "Присылать ДЗ необходимо в виде ссылки на свой github репозиторий в slack @alkhamush\n",
    "\n",
    "Необходимо в slack скинуть ссылку в личный чат @alkhamush\n",
    "Пример ссылки:\n",
    "https://github.com/stroykova/spheremailru/stroykova_hw1.ipynb \n",
    "\n",
    "\n",
    "Используйте данный Ipython Notebook при оформлении домашнего задания."
   ]
  },
  {
   "cell_type": "markdown",
   "metadata": {},
   "source": [
    "###### Задание 1 (2 баллов)\n",
    "Реализовать KNN в классе MyKNeighborsClassifier (обязательное условие: точность не ниже sklearn реализации)\n",
    "Разберитесь самостоятельно, какая мера расстояния используется в KNeighborsClassifier дефолтно и реализуйте свой алгоритм именно с этой мерой. Самостоятельно разберитесь, как считается score из KNeighborsClassifier и реализуйте аналог в своём классе. Score не должен уступать значению KNN из sklearn\n",
    "\n",
    "###### Задание 2 (2 балла)\n",
    "Добиться скорости работы на fit,  predict и predict_proba сравнимой со sklearn для iris и mnist\n",
    "Для этого используем numpy\n",
    "\n",
    "###### Задание 3 (2 балла)\n",
    "Для iris найдите такой параметр n_neighbors, при котором выдаётся наилучший score. Нарисуйте график зависимости score от n_neighbors\n",
    "\n",
    "###### Задание 4 (3 балла)\n",
    "Добавить algorithm='kd_tree' в реализацию KNN (использовать KDTree из sklearn.neighbors). Значение n_neighbors нужно взять из задания 3. Добиться скорости работы на fit,  predict и predict_proba сравнимой со sklearn для iris и mnist\n",
    "Для этого используем numpy. Score не должен уступать значению KNN из sklearn\n",
    "\n",
    "###### Задание 5 (1 балла)\n",
    "Описать для чего нужны следующие библиотеки/классы/функции (список будет ниже)\n",
    "\n",
    "**Штрафные баллы:**\n",
    "\n",
    "1. Невыполнение PEP8 -1 балл\n",
    "2. Отсутствие фамилии в имени скрипта (скрипт должен называться по аналогии со stroykova_hw1.ipynb) -1 балл\n",
    "3. Все строчки должны быть выполнены. Нужно, чтобы output команды можно было увидеть уже в git'е. В противном случае -1 балл\n",
    "4. При оформлении ДЗ нужно пользоваться данным файлом в качестве шаблона. Не нужно удалять и видоизменять структуру кода и текст. В противном случае -1 балл\n"
   ]
  },
  {
   "cell_type": "code",
   "execution_count": 1,
   "metadata": {
    "collapsed": true
   },
   "outputs": [],
   "source": [
    "import numpy as np\n",
    "import scipy as sc\n",
    "import matplotlib.pyplot as plt\n",
    "\n",
    "import seaborn as sns\n",
    "from sklearn import datasets\n",
    "from sklearn.base import ClassifierMixin\n",
    "from sklearn.datasets import fetch_mldata\n",
    "from sklearn.neighbors.base import NeighborsBase, KNeighborsMixin, SupervisedIntegerMixin \n",
    "from sklearn.neighbors import KDTree\n",
    "from sklearn.model_selection import train_test_split\n",
    "from sklearn.neighbors import KNeighborsClassifier\n",
    "%load_ext pycodestyle_magic"
   ]
  },
  {
   "cell_type": "code",
   "execution_count": 64,
   "metadata": {},
   "outputs": [],
   "source": [
    "#%%pycodestyle\n",
    "\n",
    "\n",
    "class MyKNeighborsClassifier(NeighborsBase, KNeighborsMixin,\n",
    "                             SupervisedIntegerMixin, ClassifierMixin):\n",
    "\n",
    "    def __init__(self, n_neighbors=5, algorithm='brute'):\n",
    "        self.n_neighbors = n_neighbors\n",
    "        self._fit_method = algorithm\n",
    "\n",
    "    def fit(self, X, y):\n",
    "        self.X = X\n",
    "        if self._fit_method == 'kd_tree':\n",
    "            self.tree = KDTree(X)\n",
    "        self.y = y\n",
    "        self.labels = np.unique(y)\n",
    "        self.l_num = self.labels.shape[0]\n",
    "\n",
    "    def _get_arr(self, X):\n",
    "        if self._fit_method == 'kd_tree':\n",
    "            _, ind = self.tree.query(X, k=self.n_neighbors)\n",
    "            return self.y[ind]\n",
    "        else:\n",
    "            ind = np.argpartition(sc.spatial.distance.cdist(X, self.X),\n",
    "                                  self.n_neighbors)\n",
    "            return self.y[ind[:, :self.n_neighbors]]\n",
    "\n",
    "    def predict(self, X):\n",
    "        arr = self._get_arr(X)\n",
    "        return np.array(sc.stats.mode(arr, axis=1))[0].reshape(len(X))\n",
    "\n",
    "    def predict_proba(self, X):\n",
    "        arr = self._get_arr(X).astype(int)\n",
    "        return np.apply_along_axis(lambda x:\n",
    "                                   np.bincount(x, minlength=self.l_num) /\n",
    "                                   self.n_neighbors,\n",
    "                                   1, arr)\n",
    "\n",
    "    def score(self, X, y):\n",
    "        pred = self.predict(X)\n",
    "        return sum(pred == y) / len(y)"
   ]
  },
  {
   "cell_type": "markdown",
   "metadata": {},
   "source": [
    "**IRIS**"
   ]
  },
  {
   "cell_type": "code",
   "execution_count": 67,
   "metadata": {
    "collapsed": true
   },
   "outputs": [],
   "source": [
    "iris = datasets.load_iris()"
   ]
  },
  {
   "cell_type": "code",
   "execution_count": 68,
   "metadata": {
    "collapsed": true
   },
   "outputs": [],
   "source": [
    "X_train, X_test, y_train, y_test = train_test_split(iris.data, iris.target, test_size=0.2, stratify=iris.target)"
   ]
  },
  {
   "cell_type": "code",
   "execution_count": 69,
   "metadata": {
    "collapsed": true
   },
   "outputs": [],
   "source": [
    "clf = KNeighborsClassifier(n_neighbors=5)\n",
    "my_clf = MyKNeighborsClassifier(n_neighbors=5)"
   ]
  },
  {
   "cell_type": "code",
   "execution_count": 70,
   "metadata": {},
   "outputs": [
    {
     "name": "stdout",
     "output_type": "stream",
     "text": [
      "CPU times: user 2.98 ms, sys: 0 ns, total: 2.98 ms\n",
      "Wall time: 2.63 ms\n"
     ]
    },
    {
     "data": {
      "text/plain": [
       "KNeighborsClassifier(algorithm='auto', leaf_size=30, metric='minkowski',\n",
       "           metric_params=None, n_jobs=1, n_neighbors=5, p=2,\n",
       "           weights='uniform')"
      ]
     },
     "execution_count": 70,
     "metadata": {},
     "output_type": "execute_result"
    }
   ],
   "source": [
    "%time clf.fit(X_train, y_train)"
   ]
  },
  {
   "cell_type": "code",
   "execution_count": 71,
   "metadata": {},
   "outputs": [
    {
     "name": "stdout",
     "output_type": "stream",
     "text": [
      "CPU times: user 3.02 ms, sys: 0 ns, total: 3.02 ms\n",
      "Wall time: 3.58 ms\n"
     ]
    }
   ],
   "source": [
    "%time my_clf.fit(X_train, y_train)"
   ]
  },
  {
   "cell_type": "code",
   "execution_count": 72,
   "metadata": {},
   "outputs": [
    {
     "name": "stdout",
     "output_type": "stream",
     "text": [
      "CPU times: user 1.39 ms, sys: 0 ns, total: 1.39 ms\n",
      "Wall time: 1.12 ms\n"
     ]
    },
    {
     "data": {
      "text/plain": [
       "array([2, 2, 0, 1, 2, 1, 1, 2, 2, 0, 0, 2, 2, 1, 0, 0, 0, 0, 2, 1, 2, 1, 0,\n",
       "       1, 0, 1, 1, 2, 1, 0])"
      ]
     },
     "execution_count": 72,
     "metadata": {},
     "output_type": "execute_result"
    }
   ],
   "source": [
    "%time clf.predict(X_test)"
   ]
  },
  {
   "cell_type": "code",
   "execution_count": 73,
   "metadata": {},
   "outputs": [
    {
     "name": "stdout",
     "output_type": "stream",
     "text": [
      "CPU times: user 3.56 ms, sys: 49 µs, total: 3.61 ms\n",
      "Wall time: 2.31 ms\n"
     ]
    },
    {
     "data": {
      "text/plain": [
       "array([2, 2, 0, 1, 2, 1, 1, 2, 2, 0, 0, 2, 2, 1, 0, 0, 0, 0, 2, 1, 2, 1, 0,\n",
       "       1, 0, 1, 1, 2, 1, 0])"
      ]
     },
     "execution_count": 73,
     "metadata": {},
     "output_type": "execute_result"
    }
   ],
   "source": [
    "%time my_clf.predict(X_test)"
   ]
  },
  {
   "cell_type": "code",
   "execution_count": 74,
   "metadata": {},
   "outputs": [
    {
     "name": "stdout",
     "output_type": "stream",
     "text": [
      "CPU times: user 1.71 ms, sys: 24 µs, total: 1.73 ms\n",
      "Wall time: 1.2 ms\n"
     ]
    },
    {
     "data": {
      "text/plain": [
       "array([[ 0. ,  0. ,  1. ],\n",
       "       [ 0. ,  0. ,  1. ],\n",
       "       [ 1. ,  0. ,  0. ],\n",
       "       [ 0. ,  1. ,  0. ],\n",
       "       [ 0. ,  0.2,  0.8],\n",
       "       [ 0. ,  1. ,  0. ],\n",
       "       [ 0. ,  1. ,  0. ],\n",
       "       [ 0. ,  0. ,  1. ],\n",
       "       [ 0. ,  0.4,  0.6],\n",
       "       [ 1. ,  0. ,  0. ],\n",
       "       [ 1. ,  0. ,  0. ],\n",
       "       [ 0. ,  0.2,  0.8],\n",
       "       [ 0. ,  0. ,  1. ],\n",
       "       [ 0. ,  0.6,  0.4],\n",
       "       [ 1. ,  0. ,  0. ],\n",
       "       [ 1. ,  0. ,  0. ],\n",
       "       [ 1. ,  0. ,  0. ],\n",
       "       [ 1. ,  0. ,  0. ],\n",
       "       [ 0. ,  0.4,  0.6],\n",
       "       [ 0. ,  1. ,  0. ],\n",
       "       [ 0. ,  0. ,  1. ],\n",
       "       [ 0. ,  1. ,  0. ],\n",
       "       [ 1. ,  0. ,  0. ],\n",
       "       [ 0. ,  1. ,  0. ],\n",
       "       [ 1. ,  0. ,  0. ],\n",
       "       [ 0. ,  1. ,  0. ],\n",
       "       [ 0. ,  1. ,  0. ],\n",
       "       [ 0. ,  0.2,  0.8],\n",
       "       [ 0. ,  1. ,  0. ],\n",
       "       [ 1. ,  0. ,  0. ]])"
      ]
     },
     "execution_count": 74,
     "metadata": {},
     "output_type": "execute_result"
    }
   ],
   "source": [
    "%time clf.predict_proba(X_test)"
   ]
  },
  {
   "cell_type": "code",
   "execution_count": 75,
   "metadata": {},
   "outputs": [
    {
     "name": "stdout",
     "output_type": "stream",
     "text": [
      "CPU times: user 1.64 ms, sys: 23 µs, total: 1.67 ms\n",
      "Wall time: 992 µs\n"
     ]
    },
    {
     "data": {
      "text/plain": [
       "array([[ 0. ,  0. ,  1. ],\n",
       "       [ 0. ,  0. ,  1. ],\n",
       "       [ 1. ,  0. ,  0. ],\n",
       "       [ 0. ,  1. ,  0. ],\n",
       "       [ 0. ,  0.2,  0.8],\n",
       "       [ 0. ,  1. ,  0. ],\n",
       "       [ 0. ,  1. ,  0. ],\n",
       "       [ 0. ,  0. ,  1. ],\n",
       "       [ 0. ,  0.4,  0.6],\n",
       "       [ 1. ,  0. ,  0. ],\n",
       "       [ 1. ,  0. ,  0. ],\n",
       "       [ 0. ,  0.2,  0.8],\n",
       "       [ 0. ,  0. ,  1. ],\n",
       "       [ 0. ,  0.6,  0.4],\n",
       "       [ 1. ,  0. ,  0. ],\n",
       "       [ 1. ,  0. ,  0. ],\n",
       "       [ 1. ,  0. ,  0. ],\n",
       "       [ 1. ,  0. ,  0. ],\n",
       "       [ 0. ,  0.4,  0.6],\n",
       "       [ 0. ,  1. ,  0. ],\n",
       "       [ 0. ,  0. ,  1. ],\n",
       "       [ 0. ,  1. ,  0. ],\n",
       "       [ 1. ,  0. ,  0. ],\n",
       "       [ 0. ,  1. ,  0. ],\n",
       "       [ 1. ,  0. ,  0. ],\n",
       "       [ 0. ,  1. ,  0. ],\n",
       "       [ 0. ,  1. ,  0. ],\n",
       "       [ 0. ,  0.2,  0.8],\n",
       "       [ 0. ,  1. ,  0. ],\n",
       "       [ 1. ,  0. ,  0. ]])"
      ]
     },
     "execution_count": 75,
     "metadata": {},
     "output_type": "execute_result"
    }
   ],
   "source": [
    "%time my_clf.predict_proba(X_test)"
   ]
  },
  {
   "cell_type": "code",
   "execution_count": 76,
   "metadata": {},
   "outputs": [
    {
     "data": {
      "text/plain": [
       "0.93333333333333335"
      ]
     },
     "execution_count": 76,
     "metadata": {},
     "output_type": "execute_result"
    }
   ],
   "source": [
    "clf.score(X_test, y_test)"
   ]
  },
  {
   "cell_type": "code",
   "execution_count": 77,
   "metadata": {},
   "outputs": [
    {
     "data": {
      "text/plain": [
       "0.93333333333333335"
      ]
     },
     "execution_count": 77,
     "metadata": {},
     "output_type": "execute_result"
    }
   ],
   "source": [
    "my_clf.score(X_test, y_test)"
   ]
  },
  {
   "cell_type": "markdown",
   "metadata": {},
   "source": [
    "Задание 3"
   ]
  },
  {
   "cell_type": "code",
   "execution_count": 78,
   "metadata": {
    "scrolled": true
   },
   "outputs": [
    {
     "data": {
      "image/png": "[encoded data removed]",
      "text/plain": [
       "<matplotlib.figure.Figure at 0x7f5522d33278>"
      ]
     },
     "metadata": {},
     "output_type": "display_data"
    },
    {
     "data": {
      "image/png": "[encoded data removed]",
      "text/plain": [
       "<matplotlib.figure.Figure at 0x7f5522d34048>"
      ]
     },
     "metadata": {},
     "output_type": "display_data"
    }
   ],
   "source": [
    "buf1 = []\n",
    "buf2 = []\n",
    "for k in range(1, 20):\n",
    "    clf = KNeighborsClassifier(n_neighbors=k)\n",
    "    my_clf = MyKNeighborsClassifier(n_neighbors=k)\n",
    "    clf.fit(X_train, y_train)\n",
    "    my_clf.fit(X_train, y_train)\n",
    "    buf1.append(clf.score(X_test, y_test))\n",
    "    buf2.append(my_clf.score(X_test, y_test))\n",
    "\n",
    "fig = plt.figure(figsize=(15, 5))\n",
    "ax1 = plt.plot(buf1, 'r', label='SKlearn KNN')\n",
    "plt.ylabel(\"Score\")\n",
    "plt.legend(loc='upper right')\n",
    "\n",
    "fig = plt.figure(figsize=(15, 5))\n",
    "ax2 = plt.plot(buf2, label='Custom KNN')\n",
    "plt.ylabel(\"Score\")\n",
    "plt.legend(loc='upper right')\n",
    "plt.show()"
   ]
  },
  {
   "cell_type": "code",
   "execution_count": 79,
   "metadata": {},
   "outputs": [
    {
     "data": {
      "text/plain": [
       "6"
      ]
     },
     "execution_count": 79,
     "metadata": {},
     "output_type": "execute_result"
    }
   ],
   "source": [
    "optim_param = np.argmax(buf1) + 1\n",
    "optim_param"
   ]
  },
  {
   "cell_type": "markdown",
   "metadata": {},
   "source": [
    "**MNIST**"
   ]
  },
  {
   "cell_type": "code",
   "execution_count": 80,
   "metadata": {
    "collapsed": true
   },
   "outputs": [],
   "source": [
    "mnist = fetch_mldata('MNIST original')"
   ]
  },
  {
   "cell_type": "code",
   "execution_count": 81,
   "metadata": {
    "collapsed": true
   },
   "outputs": [],
   "source": [
    "X_train, X_test, y_train, y_test = train_test_split(mnist.data, mnist.target, test_size=0.01, stratify=mnist.target)"
   ]
  },
  {
   "cell_type": "code",
   "execution_count": 82,
   "metadata": {
    "collapsed": true
   },
   "outputs": [],
   "source": [
    "clf = KNeighborsClassifier(n_neighbors=2)\n",
    "my_clf = MyKNeighborsClassifier(n_neighbors=2)"
   ]
  },
  {
   "cell_type": "code",
   "execution_count": 83,
   "metadata": {},
   "outputs": [
    {
     "name": "stdout",
     "output_type": "stream",
     "text": [
      "CPU times: user 36.5 s, sys: 212 ms, total: 36.7 s\n",
      "Wall time: 36.6 s\n"
     ]
    },
    {
     "data": {
      "text/plain": [
       "KNeighborsClassifier(algorithm='auto', leaf_size=30, metric='minkowski',\n",
       "           metric_params=None, n_jobs=1, n_neighbors=2, p=2,\n",
       "           weights='uniform')"
      ]
     },
     "execution_count": 83,
     "metadata": {},
     "output_type": "execute_result"
    }
   ],
   "source": [
    "%time clf.fit(X_train, y_train)"
   ]
  },
  {
   "cell_type": "code",
   "execution_count": 84,
   "metadata": {},
   "outputs": [
    {
     "name": "stdout",
     "output_type": "stream",
     "text": [
      "CPU times: user 4.17 ms, sys: 1 µs, total: 4.17 ms\n",
      "Wall time: 3.5 ms\n"
     ]
    }
   ],
   "source": [
    "%time my_clf.fit(X_train, y_train)"
   ]
  },
  {
   "cell_type": "code",
   "execution_count": 85,
   "metadata": {},
   "outputs": [
    {
     "name": "stdout",
     "output_type": "stream",
     "text": [
      "CPU times: user 1min 28s, sys: 7.6 ms, total: 1min 28s\n",
      "Wall time: 1min 28s\n"
     ]
    },
    {
     "data": {
      "text/plain": [
       "array([ 2.,  9.,  9.,  4.,  4.,  0.,  4.,  8.,  2.,  3.,  2.,  5.,  1.,\n",
       "        2.,  5.,  9.,  0.,  7.,  8.,  5.,  8.,  6.,  8.,  8.,  4.,  8.,\n",
       "        3.,  6.,  3.,  0.,  0.,  2.,  1.,  2.,  3.,  3.,  4.,  6.,  8.,\n",
       "        8.,  9.,  5.,  7.,  6.,  1.,  7.,  9.,  5.,  0.,  3.,  8.,  7.,\n",
       "        2.,  4.,  9.,  2.,  4.,  9.,  2.,  3.,  0.,  0.,  3.,  6.,  2.,\n",
       "        8.,  7.,  0.,  3.,  2.,  2.,  0.,  8.,  4.,  5.,  4.,  2.,  2.,\n",
       "        6.,  1.,  8.,  4.,  8.,  4.,  3.,  5.,  4.,  1.,  0.,  3.,  7.,\n",
       "        1.,  1.,  1.,  1.,  0.,  2.,  1.,  3.,  1.,  0.,  0.,  7.,  7.,\n",
       "        8.,  1.,  7.,  5.,  5.,  1.,  6.,  2.,  2.,  9.,  6.,  4.,  3.,\n",
       "        7.,  4.,  0.,  6.,  4.,  1.,  4.,  1.,  9.,  5.,  1.,  7.,  9.,\n",
       "        1.,  3.,  3.,  0.,  6.,  9.,  0.,  1.,  0.,  2.,  4.,  1.,  0.,\n",
       "        3.,  8.,  3.,  1.,  7.,  6.,  3.,  9.,  3.,  3.,  8.,  0.,  0.,\n",
       "        8.,  9.,  2.,  1.,  5.,  4.,  1.,  9.,  7.,  3.,  6.,  9.,  2.,\n",
       "        9.,  6.,  6.,  1.,  1.,  0.,  5.,  1.,  1.,  9.,  1.,  9.,  6.,\n",
       "        9.,  8.,  8.,  0.,  8.,  5.,  6.,  4.,  5.,  4.,  7.,  7.,  3.,\n",
       "        3.,  7.,  0.,  4.,  3.,  0.,  4.,  1.,  2.,  8.,  0.,  9.,  0.,\n",
       "        3.,  4.,  2.,  9.,  2.,  2.,  1.,  9.,  7.,  9.,  2.,  2.,  3.,\n",
       "        0.,  4.,  2.,  2.,  3.,  0.,  1.,  0.,  7.,  4.,  3.,  7.,  6.,\n",
       "        3.,  5.,  2.,  6.,  8.,  9.,  5.,  7.,  6.,  1.,  3.,  2.,  6.,\n",
       "        0.,  8.,  1.,  4.,  3.,  9.,  7.,  4.,  3.,  4.,  1.,  3.,  8.,\n",
       "        1.,  1.,  9.,  0.,  2.,  5.,  2.,  7.,  4.,  9.,  0.,  1.,  6.,\n",
       "        4.,  4.,  2.,  0.,  1.,  0.,  9.,  7.,  8.,  8.,  2.,  3.,  6.,\n",
       "        7.,  9.,  6.,  8.,  2.,  2.,  6.,  0.,  9.,  1.,  8.,  0.,  8.,\n",
       "        6.,  0.,  4.,  4.,  8.,  4.,  8.,  5.,  5.,  2.,  9.,  8.,  4.,\n",
       "        8.,  4.,  4.,  0.,  7.,  2.,  7.,  2.,  2.,  8.,  1.,  0.,  1.,\n",
       "        8.,  6.,  4.,  0.,  6.,  1.,  5.,  5.,  5.,  1.,  0.,  5.,  8.,\n",
       "        2.,  9.,  0.,  5.,  9.,  2.,  3.,  6.,  4.,  2.,  5.,  2.,  3.,\n",
       "        9.,  1.,  5.,  3.,  1.,  9.,  6.,  9.,  3.,  0.,  2.,  0.,  8.,\n",
       "        9.,  0.,  7.,  6.,  1.,  8.,  7.,  8.,  8.,  3.,  7.,  6.,  3.,\n",
       "        7.,  3.,  0.,  4.,  4.,  1.,  5.,  6.,  5.,  5.,  9.,  3.,  5.,\n",
       "        1.,  5.,  7.,  4.,  7.,  6.,  6.,  9.,  8.,  2.,  7.,  7.,  6.,\n",
       "        6.,  8.,  8.,  7.,  3.,  8.,  5.,  0.,  3.,  5.,  5.,  1.,  2.,\n",
       "        9.,  3.,  5.,  5.,  4.,  3.,  0.,  1.,  1.,  1.,  4.,  5.,  5.,\n",
       "        2.,  9.,  1.,  6.,  6.,  7.,  6.,  9.,  2.,  1.,  1.,  3.,  6.,\n",
       "        1.,  3.,  7.,  3.,  5.,  6.,  3.,  2.,  5.,  4.,  4.,  7.,  2.,\n",
       "        7.,  5.,  6.,  8.,  7.,  4.,  3.,  9.,  5.,  9.,  0.,  6.,  7.,\n",
       "        9.,  0.,  0.,  6.,  7.,  6.,  9.,  4.,  4.,  9.,  7.,  7.,  3.,\n",
       "        8.,  0.,  7.,  8.,  5.,  4.,  8.,  2.,  2.,  8.,  7.,  2.,  6.,\n",
       "        6.,  0.,  0.,  3.,  1.,  6.,  2.,  8.,  5.,  4.,  0.,  5.,  5.,\n",
       "        0.,  4.,  8.,  5.,  1.,  3.,  6.,  5.,  7.,  3.,  6.,  2.,  0.,\n",
       "        4.,  4.,  0.,  5.,  6.,  7.,  4.,  9.,  3.,  2.,  8.,  6.,  7.,\n",
       "        9.,  1.,  9.,  5.,  7.,  3.,  4.,  4.,  7.,  0.,  1.,  9.,  0.,\n",
       "        0.,  1.,  6.,  9.,  7.,  7.,  4.,  3.,  7.,  6.,  0.,  3.,  0.,\n",
       "        8.,  3.,  1.,  8.,  7.,  6.,  5.,  1.,  2.,  3.,  5.,  6.,  5.,\n",
       "        7.,  1.,  3.,  5.,  4.,  8.,  0.,  1.,  7.,  6.,  1.,  4.,  4.,\n",
       "        4.,  3.,  4.,  2.,  7.,  7.,  0.,  1.,  0.,  3.,  2.,  1.,  5.,\n",
       "        0.,  7.,  1.,  5.,  3.,  4.,  4.,  0.,  6.,  2.,  2.,  3.,  1.,\n",
       "        5.,  1.,  6.,  4.,  6.,  7.,  1.,  0.,  4.,  8.,  3.,  5.,  0.,\n",
       "        2.,  1.,  7.,  6.,  3.,  6.,  6.,  4.,  8.,  3.,  7.,  5.,  9.,\n",
       "        2.,  7.,  4.,  2.,  7.,  2.,  7.,  6.,  9.,  7.,  1.,  1.,  5.,\n",
       "        8.,  1.,  5.,  7.,  1.,  3.,  2.,  0.,  2.,  9.,  4.,  5.,  4.,\n",
       "        0.,  5.,  8.,  9.,  8.,  4.,  1.,  7.,  4.,  9.,  3.,  7.,  6.,\n",
       "        3.,  7.,  7.,  2.,  9.,  4.,  7.,  1.,  9.,  6.,  9.,  8.,  8.,\n",
       "        8.,  2.,  0.,  3.,  3.,  9.,  8.,  0.,  1.,  5.,  9.])"
      ]
     },
     "execution_count": 85,
     "metadata": {},
     "output_type": "execute_result"
    }
   ],
   "source": [
    "%time clf.predict(X_test)"
   ]
  },
  {
   "cell_type": "code",
   "execution_count": 86,
   "metadata": {},
   "outputs": [
    {
     "name": "stdout",
     "output_type": "stream",
     "text": [
      "CPU times: user 32.1 s, sys: 536 ms, total: 32.7 s\n",
      "Wall time: 32.7 s\n"
     ]
    },
    {
     "data": {
      "text/plain": [
       "array([ 2.,  9.,  9.,  4.,  4.,  0.,  4.,  8.,  2.,  3.,  2.,  5.,  1.,\n",
       "        2.,  5.,  9.,  0.,  7.,  8.,  5.,  8.,  6.,  8.,  8.,  4.,  8.,\n",
       "        3.,  6.,  3.,  0.,  0.,  2.,  1.,  2.,  3.,  3.,  4.,  6.,  8.,\n",
       "        8.,  9.,  5.,  7.,  6.,  1.,  7.,  9.,  5.,  0.,  3.,  8.,  7.,\n",
       "        2.,  4.,  9.,  2.,  4.,  9.,  2.,  3.,  0.,  0.,  3.,  6.,  2.,\n",
       "        8.,  7.,  0.,  3.,  2.,  2.,  0.,  8.,  4.,  5.,  4.,  2.,  2.,\n",
       "        6.,  1.,  8.,  4.,  8.,  4.,  3.,  5.,  4.,  1.,  0.,  3.,  7.,\n",
       "        1.,  1.,  1.,  1.,  0.,  2.,  1.,  3.,  1.,  0.,  0.,  7.,  7.,\n",
       "        8.,  1.,  7.,  5.,  5.,  1.,  6.,  2.,  2.,  9.,  6.,  4.,  3.,\n",
       "        7.,  4.,  0.,  6.,  4.,  1.,  4.,  1.,  9.,  5.,  1.,  7.,  9.,\n",
       "        1.,  3.,  3.,  0.,  6.,  9.,  0.,  1.,  0.,  2.,  4.,  1.,  0.,\n",
       "        3.,  8.,  3.,  1.,  7.,  6.,  3.,  9.,  3.,  3.,  8.,  0.,  0.,\n",
       "        8.,  9.,  2.,  1.,  5.,  4.,  1.,  9.,  7.,  3.,  6.,  9.,  2.,\n",
       "        9.,  6.,  6.,  1.,  1.,  0.,  5.,  1.,  1.,  9.,  1.,  9.,  6.,\n",
       "        9.,  8.,  8.,  0.,  8.,  5.,  6.,  4.,  5.,  4.,  7.,  7.,  3.,\n",
       "        3.,  7.,  0.,  4.,  3.,  0.,  4.,  1.,  2.,  8.,  0.,  9.,  0.,\n",
       "        3.,  4.,  2.,  9.,  2.,  2.,  1.,  9.,  7.,  9.,  2.,  2.,  3.,\n",
       "        0.,  4.,  2.,  2.,  3.,  0.,  1.,  0.,  7.,  4.,  3.,  7.,  6.,\n",
       "        3.,  5.,  2.,  6.,  8.,  9.,  5.,  7.,  6.,  1.,  3.,  2.,  6.,\n",
       "        0.,  8.,  1.,  4.,  3.,  9.,  7.,  4.,  3.,  4.,  1.,  3.,  8.,\n",
       "        1.,  1.,  9.,  0.,  2.,  5.,  2.,  7.,  4.,  9.,  0.,  1.,  6.,\n",
       "        4.,  4.,  2.,  0.,  1.,  0.,  9.,  7.,  8.,  8.,  2.,  3.,  6.,\n",
       "        7.,  9.,  6.,  8.,  2.,  2.,  6.,  0.,  9.,  1.,  8.,  0.,  8.,\n",
       "        6.,  0.,  4.,  4.,  8.,  4.,  8.,  5.,  5.,  2.,  9.,  8.,  4.,\n",
       "        8.,  4.,  4.,  0.,  7.,  2.,  7.,  2.,  2.,  8.,  1.,  0.,  1.,\n",
       "        8.,  6.,  4.,  0.,  6.,  1.,  5.,  5.,  5.,  1.,  0.,  5.,  8.,\n",
       "        2.,  9.,  0.,  5.,  9.,  2.,  3.,  6.,  4.,  2.,  5.,  2.,  3.,\n",
       "        9.,  1.,  5.,  3.,  1.,  9.,  6.,  9.,  3.,  0.,  2.,  0.,  8.,\n",
       "        9.,  0.,  7.,  6.,  1.,  8.,  7.,  8.,  8.,  3.,  7.,  6.,  3.,\n",
       "        7.,  3.,  0.,  4.,  4.,  1.,  5.,  6.,  5.,  5.,  9.,  3.,  5.,\n",
       "        1.,  5.,  7.,  4.,  7.,  6.,  6.,  9.,  8.,  2.,  7.,  7.,  6.,\n",
       "        6.,  8.,  8.,  7.,  3.,  8.,  5.,  0.,  3.,  5.,  5.,  1.,  2.,\n",
       "        9.,  3.,  5.,  5.,  4.,  3.,  0.,  1.,  1.,  1.,  4.,  5.,  5.,\n",
       "        2.,  9.,  1.,  6.,  6.,  7.,  6.,  9.,  2.,  1.,  1.,  3.,  6.,\n",
       "        1.,  3.,  7.,  3.,  5.,  6.,  3.,  2.,  5.,  4.,  4.,  7.,  2.,\n",
       "        7.,  5.,  6.,  8.,  7.,  4.,  3.,  9.,  5.,  9.,  0.,  6.,  7.,\n",
       "        9.,  0.,  0.,  6.,  7.,  6.,  9.,  4.,  4.,  9.,  7.,  7.,  3.,\n",
       "        8.,  0.,  7.,  8.,  5.,  4.,  8.,  2.,  2.,  8.,  7.,  2.,  6.,\n",
       "        6.,  0.,  0.,  3.,  1.,  6.,  2.,  8.,  5.,  4.,  0.,  5.,  5.,\n",
       "        0.,  4.,  8.,  5.,  1.,  3.,  6.,  5.,  7.,  3.,  6.,  2.,  0.,\n",
       "        4.,  4.,  0.,  5.,  6.,  7.,  4.,  9.,  3.,  2.,  8.,  6.,  7.,\n",
       "        9.,  1.,  9.,  5.,  7.,  3.,  4.,  4.,  7.,  0.,  1.,  9.,  0.,\n",
       "        0.,  1.,  6.,  9.,  7.,  7.,  4.,  3.,  7.,  6.,  0.,  3.,  0.,\n",
       "        8.,  3.,  1.,  8.,  7.,  6.,  5.,  1.,  2.,  3.,  5.,  6.,  5.,\n",
       "        7.,  1.,  3.,  5.,  4.,  8.,  0.,  1.,  7.,  6.,  1.,  4.,  4.,\n",
       "        4.,  3.,  4.,  2.,  7.,  7.,  0.,  1.,  0.,  3.,  2.,  1.,  5.,\n",
       "        0.,  7.,  1.,  5.,  3.,  4.,  4.,  0.,  6.,  2.,  2.,  3.,  1.,\n",
       "        5.,  1.,  6.,  4.,  6.,  7.,  1.,  0.,  4.,  8.,  3.,  5.,  0.,\n",
       "        2.,  1.,  7.,  6.,  3.,  6.,  6.,  4.,  8.,  3.,  7.,  5.,  9.,\n",
       "        2.,  7.,  4.,  2.,  7.,  2.,  7.,  6.,  9.,  7.,  1.,  1.,  5.,\n",
       "        8.,  1.,  5.,  7.,  1.,  3.,  2.,  0.,  2.,  9.,  4.,  5.,  4.,\n",
       "        0.,  5.,  8.,  9.,  8.,  4.,  1.,  7.,  4.,  9.,  3.,  7.,  6.,\n",
       "        3.,  7.,  7.,  2.,  9.,  4.,  7.,  1.,  9.,  6.,  9.,  8.,  8.,\n",
       "        8.,  2.,  0.,  3.,  3.,  9.,  8.,  0.,  1.,  5.,  9.])"
      ]
     },
     "execution_count": 86,
     "metadata": {},
     "output_type": "execute_result"
    }
   ],
   "source": [
    "%time my_clf.predict(X_test)"
   ]
  },
  {
   "cell_type": "code",
   "execution_count": 87,
   "metadata": {},
   "outputs": [
    {
     "name": "stdout",
     "output_type": "stream",
     "text": [
      "CPU times: user 1min 29s, sys: 91.9 ms, total: 1min 29s\n",
      "Wall time: 1min 29s\n"
     ]
    },
    {
     "data": {
      "text/plain": [
       "array([[ 0.,  0.,  1., ...,  0.,  0.,  0.],\n",
       "       [ 0.,  0.,  0., ...,  0.,  0.,  1.],\n",
       "       [ 0.,  0.,  0., ...,  0.,  0.,  1.],\n",
       "       ..., \n",
       "       [ 0.,  1.,  0., ...,  0.,  0.,  0.],\n",
       "       [ 0.,  0.,  0., ...,  0.,  0.,  0.],\n",
       "       [ 0.,  0.,  0., ...,  0.,  0.,  1.]])"
      ]
     },
     "execution_count": 87,
     "metadata": {},
     "output_type": "execute_result"
    }
   ],
   "source": [
    "%time clf.predict_proba(X_test)"
   ]
  },
  {
   "cell_type": "code",
   "execution_count": 88,
   "metadata": {},
   "outputs": [
    {
     "name": "stdout",
     "output_type": "stream",
     "text": [
      "CPU times: user 31.2 s, sys: 464 ms, total: 31.7 s\n",
      "Wall time: 31.7 s\n"
     ]
    },
    {
     "data": {
      "text/plain": [
       "array([[ 0.,  0.,  1., ...,  0.,  0.,  0.],\n",
       "       [ 0.,  0.,  0., ...,  0.,  0.,  1.],\n",
       "       [ 0.,  0.,  0., ...,  0.,  0.,  1.],\n",
       "       ..., \n",
       "       [ 0.,  1.,  0., ...,  0.,  0.,  0.],\n",
       "       [ 0.,  0.,  0., ...,  0.,  0.,  0.],\n",
       "       [ 0.,  0.,  0., ...,  0.,  0.,  1.]])"
      ]
     },
     "execution_count": 88,
     "metadata": {},
     "output_type": "execute_result"
    }
   ],
   "source": [
    "%time my_clf.predict_proba(X_test)"
   ]
  },
  {
   "cell_type": "code",
   "execution_count": 89,
   "metadata": {},
   "outputs": [
    {
     "name": "stdout",
     "output_type": "stream",
     "text": [
      "CPU times: user 1min 28s, sys: 100 ms, total: 1min 28s\n",
      "Wall time: 1min 28s\n"
     ]
    },
    {
     "data": {
      "text/plain": [
       "0.97142857142857142"
      ]
     },
     "execution_count": 89,
     "metadata": {},
     "output_type": "execute_result"
    }
   ],
   "source": [
    "%time clf.score(X_test, y_test)"
   ]
  },
  {
   "cell_type": "code",
   "execution_count": 90,
   "metadata": {},
   "outputs": [
    {
     "name": "stdout",
     "output_type": "stream",
     "text": [
      "CPU times: user 31.2 s, sys: 444 ms, total: 31.7 s\n",
      "Wall time: 31.7 s\n"
     ]
    },
    {
     "data": {
      "text/plain": [
       "0.97142857142857142"
      ]
     },
     "execution_count": 90,
     "metadata": {},
     "output_type": "execute_result"
    }
   ],
   "source": [
    "%time my_clf.score(X_test, y_test)"
   ]
  },
  {
   "cell_type": "markdown",
   "metadata": {},
   "source": [
    "Задание 4"
   ]
  },
  {
   "cell_type": "code",
   "execution_count": 102,
   "metadata": {
    "collapsed": true
   },
   "outputs": [],
   "source": [
    "clf = KNeighborsClassifier(n_neighbors=6, algorithm='kd_tree')\n",
    "my_clf = MyKNeighborsClassifier(n_neighbors=6, algorithm='kd_tree')"
   ]
  },
  {
   "cell_type": "code",
   "execution_count": 103,
   "metadata": {
    "collapsed": true
   },
   "outputs": [],
   "source": [
    "X_train, X_test, y_train, y_test = train_test_split(mnist.data, mnist.target, test_size=0.01, stratify=mnist.target)"
   ]
  },
  {
   "cell_type": "code",
   "execution_count": 104,
   "metadata": {},
   "outputs": [
    {
     "name": "stdout",
     "output_type": "stream",
     "text": [
      "CPU times: user 35.3 s, sys: 320 ms, total: 35.6 s\n",
      "Wall time: 35.6 s\n"
     ]
    },
    {
     "data": {
      "text/plain": [
       "KNeighborsClassifier(algorithm='kd_tree', leaf_size=30, metric='minkowski',\n",
       "           metric_params=None, n_jobs=1, n_neighbors=6, p=2,\n",
       "           weights='uniform')"
      ]
     },
     "execution_count": 104,
     "metadata": {},
     "output_type": "execute_result"
    }
   ],
   "source": [
    "%time clf.fit(X_train, y_train)"
   ]
  },
  {
   "cell_type": "code",
   "execution_count": 105,
   "metadata": {},
   "outputs": [
    {
     "name": "stdout",
     "output_type": "stream",
     "text": [
      "CPU times: user 33.2 s, sys: 188 ms, total: 33.4 s\n",
      "Wall time: 33.3 s\n"
     ]
    }
   ],
   "source": [
    "%time my_clf.fit(X_train, y_train)"
   ]
  },
  {
   "cell_type": "code",
   "execution_count": 106,
   "metadata": {},
   "outputs": [
    {
     "name": "stdout",
     "output_type": "stream",
     "text": [
      "CPU times: user 1min 28s, sys: 80 ms, total: 1min 28s\n",
      "Wall time: 1min 28s\n"
     ]
    },
    {
     "data": {
      "text/plain": [
       "array([ 1.,  8.,  0.,  6.,  0.,  8.,  0.,  4.,  1.,  3.,  3.,  4.,  4.,\n",
       "        5.,  5.,  8.,  3.,  8.,  9.,  1.,  3.,  7.,  5.,  8.,  2.,  1.,\n",
       "        1.,  4.,  2.,  2.,  9.,  5.,  5.,  9.,  0.,  6.,  9.,  5.,  1.,\n",
       "        2.,  8.,  8.,  7.,  1.,  3.,  1.,  0.,  6.,  5.,  2.,  5.,  3.,\n",
       "        7.,  7.,  5.,  4.,  0.,  3.,  5.,  8.,  7.,  2.,  2.,  5.,  6.,\n",
       "        5.,  1.,  0.,  1.,  1.,  4.,  1.,  7.,  8.,  7.,  2.,  1.,  0.,\n",
       "        8.,  7.,  8.,  5.,  1.,  2.,  9.,  5.,  9.,  2.,  8.,  6.,  1.,\n",
       "        6.,  1.,  1.,  2.,  8.,  4.,  2.,  0.,  1.,  1.,  9.,  9.,  0.,\n",
       "        9.,  6.,  9.,  5.,  7.,  9.,  1.,  8.,  5.,  1.,  9.,  9.,  9.,\n",
       "        1.,  9.,  5.,  2.,  7.,  4.,  7.,  3.,  5.,  4.,  0.,  4.,  1.,\n",
       "        0.,  0.,  2.,  9.,  5.,  9.,  7.,  2.,  4.,  5.,  2.,  5.,  6.,\n",
       "        7.,  6.,  2.,  9.,  5.,  7.,  8.,  5.,  1.,  4.,  8.,  4.,  3.,\n",
       "        7.,  2.,  7.,  9.,  7.,  2.,  4.,  1.,  4.,  6.,  0.,  6.,  5.,\n",
       "        2.,  8.,  8.,  0.,  3.,  2.,  9.,  0.,  3.,  3.,  7.,  2.,  9.,\n",
       "        2.,  6.,  2.,  6.,  9.,  1.,  1.,  9.,  3.,  1.,  1.,  2.,  9.,\n",
       "        1.,  6.,  6.,  9.,  7.,  8.,  3.,  2.,  1.,  0.,  7.,  1.,  7.,\n",
       "        5.,  5.,  0.,  1.,  3.,  7.,  2.,  5.,  8.,  6.,  2.,  3.,  0.,\n",
       "        8.,  7.,  1.,  1.,  1.,  3.,  5.,  9.,  4.,  4.,  6.,  4.,  0.,\n",
       "        7.,  7.,  8.,  1.,  4.,  8.,  8.,  3.,  7.,  6.,  5.,  1.,  6.,\n",
       "        3.,  6.,  6.,  9.,  1.,  4.,  6.,  3.,  0.,  3.,  0.,  0.,  8.,\n",
       "        7.,  7.,  7.,  7.,  6.,  9.,  2.,  4.,  8.,  3.,  6.,  7.,  0.,\n",
       "        9.,  9.,  5.,  8.,  1.,  9.,  2.,  3.,  7.,  1.,  1.,  0.,  6.,\n",
       "        7.,  1.,  4.,  5.,  8.,  8.,  7.,  1.,  2.,  4.,  4.,  5.,  7.,\n",
       "        3.,  3.,  0.,  3.,  0.,  1.,  2.,  3.,  1.,  5.,  5.,  7.,  3.,\n",
       "        1.,  8.,  7.,  2.,  6.,  8.,  2.,  6.,  2.,  2.,  0.,  1.,  9.,\n",
       "        2.,  3.,  1.,  1.,  3.,  0.,  7.,  6.,  9.,  0.,  7.,  3.,  2.,\n",
       "        8.,  3.,  9.,  4.,  6.,  9.,  1.,  1.,  9.,  7.,  8.,  3.,  8.,\n",
       "        2.,  9.,  3.,  6.,  6.,  9.,  7.,  3.,  4.,  5.,  6.,  3.,  2.,\n",
       "        7.,  0.,  9.,  6.,  6.,  8.,  6.,  9.,  8.,  4.,  3.,  0.,  7.,\n",
       "        0.,  5.,  0.,  7.,  2.,  3.,  9.,  0.,  6.,  6.,  4.,  5.,  2.,\n",
       "        6.,  2.,  7.,  6.,  8.,  3.,  6.,  3.,  4.,  2.,  4.,  5.,  3.,\n",
       "        2.,  3.,  0.,  3.,  9.,  0.,  6.,  1.,  9.,  7.,  0.,  5.,  8.,\n",
       "        6.,  8.,  6.,  5.,  0.,  5.,  3.,  9.,  3.,  1.,  3.,  9.,  4.,\n",
       "        0.,  7.,  0.,  0.,  3.,  0.,  9.,  7.,  2.,  7.,  3.,  2.,  7.,\n",
       "        7.,  0.,  5.,  1.,  5.,  4.,  4.,  2.,  4.,  4.,  9.,  2.,  9.,\n",
       "        6.,  3.,  2.,  1.,  1.,  9.,  6.,  3.,  8.,  3.,  6.,  6.,  0.,\n",
       "        7.,  9.,  9.,  3.,  1.,  4.,  1.,  5.,  7.,  4.,  1.,  9.,  7.,\n",
       "        2.,  2.,  9.,  7.,  0.,  1.,  1.,  2.,  6.,  6.,  3.,  5.,  0.,\n",
       "        0.,  5.,  8.,  8.,  8.,  0.,  6.,  2.,  5.,  9.,  1.,  8.,  4.,\n",
       "        7.,  4.,  8.,  6.,  7.,  0.,  5.,  5.,  0.,  1.,  3.,  7.,  8.,\n",
       "        5.,  5.,  8.,  6.,  3.,  4.,  2.,  9.,  8.,  0.,  4.,  8.,  4.,\n",
       "        6.,  6.,  1.,  1.,  1.,  1.,  7.,  0.,  4.,  4.,  1.,  8.,  2.,\n",
       "        4.,  7.,  0.,  5.,  8.,  5.,  3.,  7.,  8.,  6.,  8.,  9.,  6.,\n",
       "        9.,  0.,  6.,  3.,  2.,  4.,  2.,  7.,  0.,  4.,  7.,  4.,  4.,\n",
       "        3.,  9.,  0.,  4.,  0.,  6.,  8.,  5.,  4.,  4.,  9.,  5.,  9.,\n",
       "        0.,  7.,  2.,  2.,  5.,  5.,  3.,  3.,  5.,  7.,  4.,  4.,  7.,\n",
       "        8.,  4.,  1.,  9.,  7.,  2.,  1.,  9.,  9.,  3.,  0.,  5.,  8.,\n",
       "        2.,  3.,  5.,  7.,  6.,  4.,  7.,  2.,  0.,  5.,  0.,  6.,  4.,\n",
       "        6.,  5.,  8.,  6.,  6.,  5.,  0.,  1.,  9.,  4.,  0.,  3.,  3.,\n",
       "        4.,  2.,  4.,  6.,  5.,  4.,  5.,  0.,  3.,  5.,  1.,  6.,  2.,\n",
       "        4.,  2.,  6.,  0.,  7.,  1.,  2.,  1.,  4.,  5.,  4.,  9.,  1.,\n",
       "        4.,  1.,  3.,  0.,  9.,  9.,  1.,  0.,  2.,  0.,  6.,  7.,  5.,\n",
       "        6.,  9.,  8.,  1.,  2.,  1.,  3.,  7.,  3.,  9.,  7.,  7.,  3.,\n",
       "        6.,  4.,  7.,  7.,  4.,  8.,  4.,  9.,  9.,  1.,  0.])"
      ]
     },
     "execution_count": 106,
     "metadata": {},
     "output_type": "execute_result"
    }
   ],
   "source": [
    "%time clf.predict(X_test)"
   ]
  },
  {
   "cell_type": "code",
   "execution_count": 107,
   "metadata": {},
   "outputs": [
    {
     "name": "stdout",
     "output_type": "stream",
     "text": [
      "CPU times: user 1min 15s, sys: 7.98 ms, total: 1min 15s\n",
      "Wall time: 1min 15s\n"
     ]
    },
    {
     "data": {
      "text/plain": [
       "array([ 1.,  8.,  0.,  6.,  0.,  8.,  0.,  4.,  1.,  3.,  3.,  4.,  4.,\n",
       "        5.,  5.,  8.,  3.,  8.,  9.,  1.,  3.,  7.,  5.,  8.,  2.,  1.,\n",
       "        1.,  4.,  2.,  2.,  9.,  5.,  5.,  9.,  0.,  6.,  9.,  5.,  1.,\n",
       "        2.,  8.,  8.,  7.,  1.,  3.,  1.,  0.,  6.,  5.,  2.,  5.,  3.,\n",
       "        7.,  7.,  5.,  4.,  0.,  3.,  5.,  8.,  7.,  2.,  2.,  5.,  6.,\n",
       "        5.,  1.,  0.,  1.,  1.,  4.,  1.,  7.,  8.,  7.,  2.,  1.,  0.,\n",
       "        8.,  7.,  8.,  5.,  1.,  2.,  9.,  5.,  9.,  2.,  8.,  6.,  1.,\n",
       "        6.,  1.,  1.,  2.,  8.,  4.,  2.,  0.,  1.,  1.,  9.,  9.,  0.,\n",
       "        9.,  6.,  9.,  5.,  7.,  9.,  1.,  8.,  5.,  1.,  9.,  9.,  9.,\n",
       "        1.,  9.,  5.,  2.,  7.,  4.,  7.,  3.,  5.,  4.,  0.,  4.,  1.,\n",
       "        0.,  0.,  2.,  9.,  5.,  9.,  7.,  2.,  4.,  5.,  2.,  5.,  6.,\n",
       "        7.,  6.,  2.,  9.,  5.,  7.,  8.,  5.,  1.,  4.,  8.,  4.,  3.,\n",
       "        7.,  2.,  7.,  9.,  7.,  2.,  4.,  1.,  4.,  6.,  0.,  6.,  5.,\n",
       "        2.,  8.,  8.,  0.,  3.,  2.,  9.,  0.,  3.,  3.,  7.,  2.,  9.,\n",
       "        2.,  6.,  2.,  6.,  9.,  1.,  1.,  9.,  3.,  1.,  1.,  2.,  9.,\n",
       "        1.,  6.,  6.,  9.,  7.,  8.,  3.,  2.,  1.,  0.,  7.,  1.,  7.,\n",
       "        5.,  5.,  0.,  1.,  3.,  7.,  2.,  5.,  8.,  6.,  2.,  3.,  0.,\n",
       "        8.,  7.,  1.,  1.,  1.,  3.,  5.,  9.,  4.,  4.,  6.,  4.,  0.,\n",
       "        7.,  7.,  8.,  1.,  4.,  8.,  8.,  3.,  7.,  6.,  5.,  1.,  6.,\n",
       "        3.,  6.,  6.,  9.,  1.,  4.,  6.,  3.,  0.,  3.,  0.,  0.,  8.,\n",
       "        7.,  7.,  7.,  7.,  6.,  9.,  2.,  4.,  8.,  3.,  6.,  7.,  0.,\n",
       "        9.,  9.,  5.,  8.,  1.,  9.,  2.,  3.,  7.,  1.,  1.,  0.,  6.,\n",
       "        7.,  1.,  4.,  5.,  8.,  8.,  7.,  1.,  2.,  4.,  4.,  5.,  7.,\n",
       "        3.,  3.,  0.,  3.,  0.,  1.,  2.,  3.,  1.,  5.,  5.,  7.,  3.,\n",
       "        1.,  8.,  7.,  2.,  6.,  8.,  2.,  6.,  2.,  2.,  0.,  1.,  9.,\n",
       "        2.,  3.,  1.,  1.,  3.,  0.,  7.,  6.,  9.,  0.,  7.,  3.,  2.,\n",
       "        8.,  3.,  9.,  4.,  6.,  9.,  1.,  1.,  9.,  7.,  8.,  3.,  8.,\n",
       "        2.,  9.,  3.,  6.,  6.,  9.,  7.,  3.,  4.,  5.,  6.,  3.,  2.,\n",
       "        7.,  0.,  9.,  6.,  6.,  8.,  6.,  9.,  8.,  4.,  3.,  0.,  7.,\n",
       "        0.,  5.,  0.,  7.,  2.,  3.,  9.,  0.,  6.,  6.,  4.,  5.,  2.,\n",
       "        6.,  2.,  7.,  6.,  8.,  3.,  6.,  3.,  4.,  2.,  4.,  5.,  3.,\n",
       "        2.,  3.,  0.,  3.,  9.,  0.,  6.,  1.,  9.,  7.,  0.,  5.,  8.,\n",
       "        6.,  8.,  6.,  5.,  0.,  5.,  3.,  9.,  3.,  1.,  3.,  9.,  4.,\n",
       "        0.,  7.,  0.,  0.,  3.,  0.,  9.,  7.,  2.,  7.,  3.,  2.,  7.,\n",
       "        7.,  0.,  5.,  1.,  5.,  4.,  4.,  2.,  4.,  4.,  9.,  2.,  9.,\n",
       "        6.,  3.,  2.,  1.,  1.,  9.,  6.,  3.,  8.,  3.,  6.,  6.,  0.,\n",
       "        7.,  9.,  9.,  3.,  1.,  4.,  1.,  5.,  7.,  4.,  1.,  9.,  7.,\n",
       "        2.,  2.,  9.,  7.,  0.,  1.,  1.,  2.,  6.,  6.,  3.,  5.,  0.,\n",
       "        0.,  5.,  8.,  8.,  8.,  0.,  6.,  2.,  5.,  9.,  1.,  8.,  4.,\n",
       "        7.,  4.,  8.,  6.,  7.,  0.,  5.,  5.,  0.,  1.,  3.,  7.,  8.,\n",
       "        5.,  5.,  8.,  6.,  3.,  4.,  2.,  9.,  8.,  0.,  4.,  8.,  4.,\n",
       "        6.,  6.,  1.,  1.,  1.,  1.,  7.,  0.,  4.,  4.,  1.,  8.,  2.,\n",
       "        4.,  7.,  0.,  5.,  8.,  5.,  3.,  7.,  8.,  6.,  8.,  9.,  6.,\n",
       "        9.,  0.,  6.,  3.,  2.,  4.,  2.,  7.,  0.,  4.,  7.,  4.,  4.,\n",
       "        3.,  9.,  0.,  4.,  0.,  6.,  8.,  5.,  4.,  4.,  9.,  5.,  9.,\n",
       "        0.,  7.,  2.,  2.,  5.,  5.,  3.,  3.,  5.,  7.,  4.,  4.,  7.,\n",
       "        8.,  4.,  1.,  9.,  7.,  2.,  1.,  9.,  9.,  3.,  0.,  5.,  8.,\n",
       "        2.,  3.,  5.,  7.,  6.,  4.,  7.,  2.,  0.,  5.,  0.,  6.,  4.,\n",
       "        6.,  5.,  8.,  6.,  6.,  5.,  0.,  1.,  9.,  4.,  0.,  3.,  3.,\n",
       "        4.,  2.,  4.,  6.,  5.,  4.,  5.,  0.,  3.,  5.,  1.,  6.,  2.,\n",
       "        4.,  2.,  6.,  0.,  7.,  1.,  2.,  1.,  4.,  5.,  4.,  9.,  1.,\n",
       "        4.,  1.,  3.,  0.,  9.,  9.,  1.,  0.,  2.,  0.,  6.,  7.,  5.,\n",
       "        6.,  9.,  8.,  1.,  2.,  1.,  3.,  7.,  3.,  9.,  7.,  7.,  3.,\n",
       "        6.,  4.,  7.,  7.,  4.,  8.,  4.,  9.,  9.,  1.,  0.])"
      ]
     },
     "execution_count": 107,
     "metadata": {},
     "output_type": "execute_result"
    }
   ],
   "source": [
    "%time my_clf.predict(X_test)"
   ]
  },
  {
   "cell_type": "code",
   "execution_count": 108,
   "metadata": {},
   "outputs": [
    {
     "name": "stdout",
     "output_type": "stream",
     "text": [
      "CPU times: user 1min 28s, sys: 20 ms, total: 1min 28s\n",
      "Wall time: 1min 28s\n"
     ]
    },
    {
     "data": {
      "text/plain": [
       "array([[ 0.        ,  1.        ,  0.        , ...,  0.        ,\n",
       "         0.        ,  0.        ],\n",
       "       [ 0.        ,  0.        ,  0.        , ...,  0.        ,\n",
       "         1.        ,  0.        ],\n",
       "       [ 0.66666667,  0.        ,  0.33333333, ...,  0.        ,\n",
       "         0.        ,  0.        ],\n",
       "       ..., \n",
       "       [ 0.        ,  0.        ,  0.        , ...,  0.        ,\n",
       "         0.        ,  1.        ],\n",
       "       [ 0.        ,  1.        ,  0.        , ...,  0.        ,\n",
       "         0.        ,  0.        ],\n",
       "       [ 1.        ,  0.        ,  0.        , ...,  0.        ,\n",
       "         0.        ,  0.        ]])"
      ]
     },
     "execution_count": 108,
     "metadata": {},
     "output_type": "execute_result"
    }
   ],
   "source": [
    "%time clf.predict_proba(X_test)"
   ]
  },
  {
   "cell_type": "code",
   "execution_count": 109,
   "metadata": {},
   "outputs": [
    {
     "name": "stdout",
     "output_type": "stream",
     "text": [
      "CPU times: user 1min 15s, sys: 12 ms, total: 1min 15s\n",
      "Wall time: 1min 15s\n"
     ]
    },
    {
     "data": {
      "text/plain": [
       "array([[ 0.        ,  1.        ,  0.        , ...,  0.        ,\n",
       "         0.        ,  0.        ],\n",
       "       [ 0.        ,  0.        ,  0.        , ...,  0.        ,\n",
       "         1.        ,  0.        ],\n",
       "       [ 0.66666667,  0.        ,  0.33333333, ...,  0.        ,\n",
       "         0.        ,  0.        ],\n",
       "       ..., \n",
       "       [ 0.        ,  0.        ,  0.        , ...,  0.        ,\n",
       "         0.        ,  1.        ],\n",
       "       [ 0.        ,  1.        ,  0.        , ...,  0.        ,\n",
       "         0.        ,  0.        ],\n",
       "       [ 1.        ,  0.        ,  0.        , ...,  0.        ,\n",
       "         0.        ,  0.        ]])"
      ]
     },
     "execution_count": 109,
     "metadata": {},
     "output_type": "execute_result"
    }
   ],
   "source": [
    "%time my_clf.predict_proba(X_test)"
   ]
  },
  {
   "cell_type": "code",
   "execution_count": null,
   "metadata": {},
   "outputs": [
    {
     "name": "stdout",
     "output_type": "stream",
     "text": [
      "CPU times: user 1min 28s, sys: 7.03 ms, total: 1min 28s\n",
      "Wall time: 1min 28s\n"
     ]
    },
    {
     "data": {
      "text/plain": [
       "0.96857142857142853"
      ]
     },
     "execution_count": 110,
     "metadata": {},
     "output_type": "execute_result"
    }
   ],
   "source": [
    "%time clf.score(X_test, y_test)"
   ]
  },
  {
   "cell_type": "code",
   "execution_count": null,
   "metadata": {},
   "outputs": [],
   "source": [
    "%time my_clf.score(X_test, y_test)"
   ]
  },
  {
   "cell_type": "markdown",
   "metadata": {},
   "source": [
    "Задание 5"
   ]
  },
  {
   "cell_type": "code",
   "execution_count": 101,
   "metadata": {
    "collapsed": true
   },
   "outputs": [],
   "source": [
    "# seaborn - библиотека для визуализации, основанная на matplotlib\n",
    "# matplotlib - основная библиотека для визуализации\n",
    "# train_test_split - метод для разделения выборки на обучающую и тестовую\n",
    "# Pipelin%load_ext e (from sklearn.pipeline import Pipeline) - объект конвейера для последовательных преобразований с некоторой моделью в конце\n",
    "# StandardScaler (from sklearn.preprocessing import StandardScaler) - функция для центрирования и нормирования выборки\n",
    "# ClassifierMixin - базовый класс для всех классификаторов, реализует метод score(), возвращающий метрику accuracy\n",
    "# NeighborsBase - метод _fit() вызывается после вызова метода fit() класса SupervisedIntegerMixin и реализует логику по сохранению выборки X \n",
    "# и устнановки параметров метрики.Метод _check_algorithm_metric используется для проверки параметров метрики\n",
    "# KNeighborsMixin - реализует функции kneighbors и kneighbors_graph для нахождения k ближайших соседей и построения графа соседей соответственно\n",
    "# SupervisedIntegerMixin - используется для проверки типа y при вызове fit()"
   ]
  }
 ],
 "metadata": {
  "kernelspec": {
   "display_name": "Python 3",
   "language": "python",
   "name": "python3"
  },
  "language_info": {
   "codemirror_mode": {
    "name": "ipython",
    "version": 3
   },
   "file_extension": ".py",
   "mimetype": "text/x-python",
   "name": "python",
   "nbconvert_exporter": "python",
   "pygments_lexer": "ipython3",
   "version": "3.6.2"
  }
 },
 "nbformat": 4,
 "nbformat_minor": 2
}
